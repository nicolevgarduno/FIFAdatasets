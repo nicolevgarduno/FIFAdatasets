{
 "cells": [
  {
   "cell_type": "markdown",
   "metadata": {},
   "source": [
    "## Part 1"
   ]
  },
  {
   "cell_type": "code",
   "execution_count": 2,
   "metadata": {
    "colab": {
     "base_uri": "https://localhost:8080/"
    },
    "id": "tidkRxEZamkx",
    "outputId": "4426c705-4e2b-48c2-ca63-09b6ce8ff524"
   },
   "outputs": [
    {
     "name": "stderr",
     "output_type": "stream",
     "text": [
      "c:\\Users\\ez242\\Documents\\Anaconda\\envs\\14763\\Lib\\site-packages\\pyspark\\sql\\context.py:113: FutureWarning: Deprecated in 3.0.0. Use SparkSession.builder.getOrCreate() instead.\n",
      "  warnings.warn(\n"
     ]
    },
    {
     "name": "stdout",
     "output_type": "stream",
     "text": [
      "root\n",
      " |-- sofifa_id: integer (nullable = true)\n",
      " |-- player_url: string (nullable = true)\n",
      " |-- short_name: string (nullable = true)\n",
      " |-- long_name: string (nullable = true)\n",
      " |-- player_positions: string (nullable = true)\n",
      " |-- overall: integer (nullable = true)\n",
      " |-- potential: integer (nullable = true)\n",
      " |-- value_eur: double (nullable = true)\n",
      " |-- wage_eur: double (nullable = true)\n",
      " |-- age: integer (nullable = true)\n",
      " |-- dob: date (nullable = true)\n",
      " |-- height_cm: integer (nullable = true)\n",
      " |-- weight_kg: integer (nullable = true)\n",
      " |-- club_team_id: double (nullable = true)\n",
      " |-- club_name: string (nullable = true)\n",
      " |-- league_name: string (nullable = true)\n",
      " |-- league_level: integer (nullable = true)\n",
      " |-- club_position: string (nullable = true)\n",
      " |-- club_jersey_number: integer (nullable = true)\n",
      " |-- club_loaned_from: string (nullable = true)\n",
      " |-- club_joined: date (nullable = true)\n",
      " |-- club_contract_valid_until: integer (nullable = true)\n",
      " |-- nationality_id: integer (nullable = true)\n",
      " |-- nationality_name: string (nullable = true)\n",
      " |-- nation_team_id: double (nullable = true)\n",
      " |-- nation_position: string (nullable = true)\n",
      " |-- nation_jersey_number: integer (nullable = true)\n",
      " |-- preferred_foot: string (nullable = true)\n",
      " |-- weak_foot: integer (nullable = true)\n",
      " |-- skill_moves: integer (nullable = true)\n",
      " |-- international_reputation: integer (nullable = true)\n",
      " |-- work_rate: string (nullable = true)\n",
      " |-- body_type: string (nullable = true)\n",
      " |-- real_face: string (nullable = true)\n",
      " |-- release_clause_eur: integer (nullable = true)\n",
      " |-- player_tags: string (nullable = true)\n",
      " |-- player_traits: string (nullable = true)\n",
      " |-- pace: integer (nullable = true)\n",
      " |-- shooting: integer (nullable = true)\n",
      " |-- passing: integer (nullable = true)\n",
      " |-- dribbling: integer (nullable = true)\n",
      " |-- defending: integer (nullable = true)\n",
      " |-- physic: integer (nullable = true)\n",
      " |-- attacking_crossing: integer (nullable = true)\n",
      " |-- attacking_finishing: integer (nullable = true)\n",
      " |-- attacking_heading_accuracy: integer (nullable = true)\n",
      " |-- attacking_short_passing: integer (nullable = true)\n",
      " |-- attacking_volleys: integer (nullable = true)\n",
      " |-- skill_dribbling: integer (nullable = true)\n",
      " |-- skill_curve: integer (nullable = true)\n",
      " |-- skill_fk_accuracy: integer (nullable = true)\n",
      " |-- skill_long_passing: integer (nullable = true)\n",
      " |-- skill_ball_control: integer (nullable = true)\n",
      " |-- movement_acceleration: integer (nullable = true)\n",
      " |-- movement_sprint_speed: integer (nullable = true)\n",
      " |-- movement_agility: integer (nullable = true)\n",
      " |-- movement_reactions: integer (nullable = true)\n",
      " |-- movement_balance: integer (nullable = true)\n",
      " |-- power_shot_power: integer (nullable = true)\n",
      " |-- power_jumping: integer (nullable = true)\n",
      " |-- power_stamina: integer (nullable = true)\n",
      " |-- power_strength: integer (nullable = true)\n",
      " |-- power_long_shots: integer (nullable = true)\n",
      " |-- mentality_aggression: integer (nullable = true)\n",
      " |-- mentality_interceptions: integer (nullable = true)\n",
      " |-- mentality_positioning: integer (nullable = true)\n",
      " |-- mentality_vision: integer (nullable = true)\n",
      " |-- mentality_penalties: integer (nullable = true)\n",
      " |-- mentality_composure: integer (nullable = true)\n",
      " |-- defending_marking_awareness: integer (nullable = true)\n",
      " |-- defending_standing_tackle: integer (nullable = true)\n",
      " |-- defending_sliding_tackle: integer (nullable = true)\n",
      " |-- goalkeeping_diving: integer (nullable = true)\n",
      " |-- goalkeeping_handling: integer (nullable = true)\n",
      " |-- goalkeeping_kicking: integer (nullable = true)\n",
      " |-- goalkeeping_positioning: integer (nullable = true)\n",
      " |-- goalkeeping_reflexes: integer (nullable = true)\n",
      " |-- goalkeeping_speed: integer (nullable = true)\n",
      " |-- ls: string (nullable = true)\n",
      " |-- st: string (nullable = true)\n",
      " |-- rs: string (nullable = true)\n",
      " |-- lw: string (nullable = true)\n",
      " |-- lf: string (nullable = true)\n",
      " |-- cf: string (nullable = true)\n",
      " |-- rf: string (nullable = true)\n",
      " |-- rw: string (nullable = true)\n",
      " |-- lam: string (nullable = true)\n",
      " |-- cam: string (nullable = true)\n",
      " |-- ram: string (nullable = true)\n",
      " |-- lm: string (nullable = true)\n",
      " |-- lcm: string (nullable = true)\n",
      " |-- cm: string (nullable = true)\n",
      " |-- rcm: string (nullable = true)\n",
      " |-- rm: string (nullable = true)\n",
      " |-- lwb: string (nullable = true)\n",
      " |-- ldm: string (nullable = true)\n",
      " |-- cdm: string (nullable = true)\n",
      " |-- rdm: string (nullable = true)\n",
      " |-- rwb: string (nullable = true)\n",
      " |-- lb: string (nullable = true)\n",
      " |-- lcb: string (nullable = true)\n",
      " |-- cb: string (nullable = true)\n",
      " |-- rcb: string (nullable = true)\n",
      " |-- rb: string (nullable = true)\n",
      " |-- gk: string (nullable = true)\n",
      " |-- player_face_url: string (nullable = true)\n",
      " |-- club_logo_url: string (nullable = true)\n",
      " |-- club_flag_url: string (nullable = true)\n",
      " |-- nation_logo_url: string (nullable = true)\n",
      " |-- nation_flag_url: string (nullable = true)\n",
      "\n"
     ]
    }
   ],
   "source": [
    "import pyspark\n",
    "import pandas as pd\n",
    "from pyspark.sql import SparkSession\n",
    "from pyspark import SparkContext, SQLContext\n",
    "from pyspark.sql import functions as F\n",
    "from pyspark.sql.functions import lit\n",
    "from pyspark.sql.functions import rank\n",
    "from pyspark.sql.window import Window\n",
    "from pyspark.sql.types import IntegerType, StringType, FloatType, DoubleType\n",
    "from pyspark.sql.functions import monotonically_increasing_id\n",
    "import os\n",
    "\n",
    "appName = \"project_checkpoint\"\n",
    "master = \"local\"\n",
    "\n",
    "# Download and include the PostgreSQL JDBC driver\n",
    "# !curl https://jdbc.postgresql.org/download/postgresql-42.7.4.jar --output postgresql-42.7.4.jar\n",
    "# # Get the absolute path of the downloaded driver jar\n",
    "# jdbc_driver_path = os.path.abspath(\"postgresql-42.7.4.jar\")\n",
    "\n",
    "#Create config object for spark\n",
    "conf = pyspark.SparkConf()\\\n",
    "    .set('spark.driver.host', '127.0.0.1')\\\n",
    "    .set('spark.driver.memory', '5g')\\\n",
    "    .set('spark.executor.memory', '5g')\\\n",
    "    .setAppName(appName)\\\n",
    "    .setMaster(master) \n",
    "    # .set(\"spark.jars\", jdbc_driver_path)\n",
    "\n",
    "#Create spark context with new configs\n",
    "sc = SparkContext.getOrCreate(conf=conf)\n",
    "\n",
    "# Create sql context\n",
    "sqlContext = SQLContext(sc)\n",
    "\n",
    "# Create spark session\n",
    "spark = sqlContext.sparkSession.builder.getOrCreate()\n",
    "\n",
    "\n",
    "# List of dataset files and their corresponding year for later ingestion\n",
    "\n",
    "files = [(\"/Users/nicolevillavicencio/Documents/school/masters/Sys_and_Tools/project/fifa/female_players_16.csv\", 2016), (\"/Users/nicolevillavicencio/Documents/school/masters/Sys_and_Tools/project/fifa/female_players_17.csv\", 2017),\n",
    "         (\"/Users/nicolevillavicencio/Documents/school/masters/Sys_and_Tools/project/fifa/female_players_18.csv\", 2018), (\"/Users/nicolevillavicencio/Documents/school/masters/Sys_and_Tools/project/fifa/female_players_19.csv\", 2019),\n",
    "         (\"/Users/nicolevillavicencio/Documents/school/masters/Sys_and_Tools/project/fifa/female_players_20.csv\", 2020), (\"/Users/nicolevillavicencio/Documents/school/masters/Sys_and_Tools/project/fifa/female_players_21.csv\", 2021),\n",
    "         (\"/Users/nicolevillavicencio/Documents/school/masters/Sys_and_Tools/project/fifa/female_players_22.csv\", 2022),\n",
    "         (\"/Users/nicolevillavicencio/Documents/school/masters/Sys_and_Tools/project/fifa/players_15.csv\", 2015), (\"/Users/nicolevillavicencio/Documents/school/masters/Sys_and_Tools/project/fifa/players_16.csv\", 2016),\n",
    "         (\"/Users/nicolevillavicencio/Documents/school/masters/Sys_and_Tools/project/fifa/players_17.csv\", 2017), (\"/Users/nicolevillavicencio/Documents/school/masters/Sys_and_Tools/project/fifa/players_18.csv\", 2018),\n",
    "         (\"/Users/nicolevillavicencio/Documents/school/masters/Sys_and_Tools/project/fifa/players_19.csv\", 2019), (\"/Users/nicolevillavicencio/Documents/school/masters/Sys_and_Tools/project/fifa/players_20.csv\", 2020),\n",
    "         (\"/Users/nicolevillavicencio/Documents/school/masters/Sys_and_Tools/project/fifa/players_21.csv\", 2021), (\"/Users/nicolevillavicencio/Documents/school/masters/Sys_and_Tools/project/fifa/players_22.csv\", 2022)]\n",
    "\n",
    "db_properties = {}\n",
    "db_properties['username'] = \"postgres\"\n",
    "db_properties['password'] = \"dogs\"\n",
    "\n",
    "\n",
    "db_properties['url'] = \"jdbc:postgresql://localhost:5432/postgres\"\n",
    "db_properties['driver'] = \"org.postgresql.Driver\"\n",
    "db_properties['table'] = \"fifa.players\"\n",
    "\n",
    "# Generate a master schema from one of the datasets to use for all of the\n",
    "# datasets, to maintain consistency across different datasets\n",
    "\n",
    "ref_file = \"/Users/nicolevillavicencio/Documents/school/masters/Sys_and_Tools/project/fifa/players_22.csv\"\n",
    "\n",
    "ref_df = spark.read.csv(ref_file, header = True, inferSchema = True)\n",
    "ref_columns = list(ref_df.columns)\n",
    "ref_schema = ref_df.schema\n",
    "ref_df.printSchema()"
   ]
  },
  {
   "cell_type": "code",
   "execution_count": 3,
   "metadata": {
    "id": "YcfDiAznDIOg"
   },
   "outputs": [],
   "source": [
    "combined_df = None\n",
    "\n",
    "for (file, year) in files:\n",
    "    df = spark.read.csv(file, header = True, schema = ref_schema).toDF(*ref_columns)\n",
    "\n",
    "    # Adding column for the year of the Fifa version\n",
    "    df = df.withColumn(\"year\", lit(year))\n",
    "    if \"female\" in file:\n",
    "        df = df.withColumn(\"gender\", lit('female'))\n",
    "    else:\n",
    "        df = df.withColumn(\"gender\", lit('male'))\n",
    "\n",
    "    if combined_df is None:\n",
    "        combined_df = df\n",
    "    else:\n",
    "        combined_df = combined_df.union(df)\n",
    "\n",
    "\n",
    "    combined_df.write.format(\"jdbc\")\\\n",
    "    .mode(\"overwrite\")\\\n",
    "    .option(\"url\", db_properties['url'])\\\n",
    "    .option(\"dbtable\", db_properties['table'])\\\n",
    "    .option(\"user\", db_properties['username'])\\\n",
    "    .option(\"password\", db_properties['password'])\\\n",
    "    .option(\"Driver\", db_properties['driver'])\\\n",
    "    .save()\n",
    "\n",
    "combined_df = combined_df.withColumn(\"unique_id\", monotonically_increasing_id())\n",
    "\n",
    "combined_df.read = sqlContext.read.format(\"jdbc\")\\\n",
    ".option(\"url\", db_properties['url'])\\\n",
    ".option(\"dbtable\", db_properties['table'])\\\n",
    ".option(\"user\", db_properties['username'])\\\n",
    ".option(\"password\", db_properties['password'])\\\n",
    ".option(\"Driver\", db_properties['driver'])\\\n",
    ".load()"
   ]
  },
  {
   "cell_type": "markdown",
   "metadata": {},
   "source": [
    "#### Section A: "
   ]
  },
  {
   "cell_type": "code",
   "execution_count": 5,
   "metadata": {
    "colab": {
     "base_uri": "https://localhost:8080/"
    },
    "id": "eRrEEtGramky",
    "outputId": "365a8f35-5066-4800-8db9-63fdf79afcaf"
   },
   "outputs": [
    {
     "name": "stdout",
     "output_type": "stream",
     "text": [
      "+---------+--------------------+-------------+--------------------+----------------+-------+---------+---------+--------+---+----------+---------+---------+------------+---------+-----------+------------+-------------+------------------+----------------+-----------+-------------------------+--------------+----------------+--------------+---------------+--------------------+--------------+---------+-----------+------------------------+-------------+----------------+---------+------------------+--------------------+--------------------+----+--------+-------+---------+---------+------+------------------+-------------------+--------------------------+-----------------------+-----------------+---------------+-----------+-----------------+------------------+------------------+---------------------+---------------------+----------------+------------------+----------------+----------------+-------------+-------------+--------------+----------------+--------------------+-----------------------+---------------------+----------------+-------------------+-------------------+---------------------------+-------------------------+------------------------+------------------+--------------------+-------------------+-----------------------+--------------------+-----------------+----+----+----+---+---+---+---+---+----+----+----+----+----+----+----+----+----+----+----+----+----+----+----+----+----+----+----+--------------------+-------------+-------------+--------------------+--------------------+----+------+-----------+\n",
      "|sofifa_id|          player_url|   short_name|           long_name|player_positions|overall|potential|value_eur|wage_eur|age|       dob|height_cm|weight_kg|club_team_id|club_name|league_name|league_level|club_position|club_jersey_number|club_loaned_from|club_joined|club_contract_valid_until|nationality_id|nationality_name|nation_team_id|nation_position|nation_jersey_number|preferred_foot|weak_foot|skill_moves|international_reputation|    work_rate|       body_type|real_face|release_clause_eur|         player_tags|       player_traits|pace|shooting|passing|dribbling|defending|physic|attacking_crossing|attacking_finishing|attacking_heading_accuracy|attacking_short_passing|attacking_volleys|skill_dribbling|skill_curve|skill_fk_accuracy|skill_long_passing|skill_ball_control|movement_acceleration|movement_sprint_speed|movement_agility|movement_reactions|movement_balance|power_shot_power|power_jumping|power_stamina|power_strength|power_long_shots|mentality_aggression|mentality_interceptions|mentality_positioning|mentality_vision|mentality_penalties|mentality_composure|defending_marking_awareness|defending_standing_tackle|defending_sliding_tackle|goalkeeping_diving|goalkeeping_handling|goalkeeping_kicking|goalkeeping_positioning|goalkeeping_reflexes|goalkeeping_speed|  ls|  st|  rs| lw| lf| cf| rf| rw| lam| cam| ram|  lm| lcm|  cm| rcm|  rm| lwb| ldm| cdm| rdm| rwb|  lb| lcb|  cb| rcb|  rb|  gk|     player_face_url|club_logo_url|club_flag_url|     nation_logo_url|     nation_flag_url|year|gender|  unique_id|\n",
      "+---------+--------------------+-------------+--------------------+----------------+-------+---------+---------+--------+---+----------+---------+---------+------------+---------+-----------+------------+-------------+------------------+----------------+-----------+-------------------------+--------------+----------------+--------------+---------------+--------------------+--------------+---------+-----------+------------------------+-------------+----------------+---------+------------------+--------------------+--------------------+----+--------+-------+---------+---------+------+------------------+-------------------+--------------------------+-----------------------+-----------------+---------------+-----------+-----------------+------------------+------------------+---------------------+---------------------+----------------+------------------+----------------+----------------+-------------+-------------+--------------+----------------+--------------------+-----------------------+---------------------+----------------+-------------------+-------------------+---------------------------+-------------------------+------------------------+------------------+--------------------+-------------------+-----------------------+--------------------+-----------------+----+----+----+---+---+---+---+---+----+----+----+----+----+----+----+----+----+----+----+----+----+----+----+----+----+----+----+--------------------+-------------+-------------+--------------------+--------------------+----+------+-----------+\n",
      "|   226328|https://sofifa.co...|   M. Rapinoe|  Megan Anna Rapinoe|          LW, LM|     93|       93|     NULL|    NULL| 34|1985-07-05|      170|       60|        NULL|     NULL|       NULL|        NULL|         NULL|              NULL|            NULL|       NULL|                     NULL|            95|   United States|      113009.0|            SUB|                  15|         Right|        4|          4|                       5|     High/Low|     Lean (170-)|      Yes|              NULL|#Crosser, #FK Spe...|Long Throw-in, Le...|  76|      87|     93|       92|       49|    69|                94|                 90|                        76|                     93|               74|             94|         93|               88|                92|                93|                   77|                   75|              87|                87|              71|              82|           76|           72|            67|              88|                  67|                     47|                   90|              92|                 90|                 93|                         46|                       46|                      48|                15|                  12|                 14|                     14|                  11|             NULL|85+3|85+3|85+3| 90| 89| 89| 89| 90|90+3|90+3|90+3|89+3|86+3|86+3|86+3|89+3|71+3|70+3|70+3|70+3|71+3|67+3|61+3|61+3|61+3|67+3|21+3|https://cdn.sofif...|         NULL|         NULL|https://cdn.sofif...|https://cdn.sofif...|2021|female|42949672960|\n",
      "|   227125|https://sofifa.co...|      S. Kerr|   Samantha May Kerr|          ST, LW|     92|       93|     NULL|    NULL| 26|1993-09-10|      167|       55|        NULL|     NULL|       NULL|        NULL|         NULL|              NULL|            NULL|       NULL|                     NULL|           195|       Australia|      112998.0|             ST|                  20|         Right|        4|          4|                       4|  High/Medium|   Normal (170-)|      Yes|              NULL|#Aerial Threat, #...|Flair, Speed Drib...|  88|      91|     72|       90|       39|    80|                74|                 95|                        92|                     78|               81|             89|         76|               63|                70|                94|                   90|                   86|              92|                89|              82|              92|           87|           87|            78|              86|                  75|                     24|                   95|              61|                 68|                 92|                         36|                       38|                      23|                 7|                  12|                  8|                     16|                  13|             NULL|91+2|91+2|91+2| 87| 88| 88| 88| 87|84+3|84+3|84+3|85+3|76+3|76+3|76+3|85+3|63+3|60+3|60+3|60+3|63+3|60+3|56+3|56+3|56+3|60+3|20+3|https://cdn.sofif...|         NULL|         NULL|https://cdn.sofif...|https://cdn.sofif...|2021|female|42949672961|\n",
      "|   227316|https://sofifa.co...|    W. Renard|Wéndèleine Thérès...|              CB|     92|       92|     NULL|    NULL| 29|1990-07-20|      187|       70|        NULL|     NULL|       NULL|        NULL|         NULL|              NULL|            NULL|       NULL|                     NULL|            18|          France|      113003.0|            LCB|                   3|         Right|        2|          2|                       4|  High/Medium|     Lean (185+)|      Yes|              NULL|#Aerial Threat, #...|Leadership, Power...|  68|      70|     62|       72|       91|    89|                25|                 70|                        94|                     82|               41|             69|         49|               58|                78|                85|                   69|                   68|              56|                84|              44|              85|           94|           77|            94|              63|                  89|                     88|                   70|              55|                 60|                 80|                         90|                       92|                      90|                 7|                  14|                 17|                     11|                  15|             NULL|77+3|77+3|77+3| 68| 74| 74| 74| 68|72+3|72+3|72+3|69+3|76+3|76+3|76+3|69+3|76+3|85+3|85+3|85+3|76+3|79+3|90+2|90+2|90+2|79+3|20+3|https://cdn.sofif...|         NULL|         NULL|https://cdn.sofif...|https://cdn.sofif...|2021|female|42949672962|\n",
      "|   226308|https://sofifa.co...|  D. Marozsán|  Dzsenifer Marozsán|     CAM, LM, CM|     91|       91|     NULL|    NULL| 28|1992-04-18|      171|       67|        NULL|     NULL|       NULL|        NULL|         NULL|              NULL|            NULL|       NULL|                     NULL|            21|         Germany|      113004.0|            LDM|                  10|         Right|        4|          5|                       4|  High/Medium|Normal (170-185)|      Yes|              NULL|#Dribbler, #Playm...|Long Shot Taker (...|  83|      86|     90|       89|       55|    76|                89|                 81|                        61|                     92|               88|             90|         93|               94|                84|                92|                   85|                   82|              80|                89|              79|              89|           61|           83|            75|              90|                  74|                     71|                   84|              91|                 93|                 89|                         51|                       46|                      53|                 8|                  10|                 15|                      9|                  12|             NULL|83+3|83+3|83+3| 88| 87| 87| 87| 88|89+2|89+2|89+2|88+3|86+3|86+3|86+3|88+3|76+3|75+3|75+3|75+3|76+3|72+3|64+3|64+3|64+3|72+3|19+3|https://cdn.sofif...|         NULL|         NULL|https://cdn.sofif...|https://cdn.sofif...|2021|female|42949672963|\n",
      "|   227318|https://sofifa.co...|     A. Henry|Amandine Chantal ...|         CDM, CM|     91|       91|     NULL|    NULL| 30|1989-09-28|      171|       64|        NULL|     NULL|       NULL|        NULL|         NULL|              NULL|            NULL|       NULL|                     NULL|            18|          France|      113003.0|            RDM|                   6|         Right|        3|          4|                       4|    High/High|Normal (170-185)|      Yes|              NULL|#Engine, #Tactician |Leadership, Long ...|  74|      78|     79|       80|       89|    89|                63|                 78|                        72|                     89|               56|             77|         63|               65|                85|                88|                   75|                   73|              74|                91|              64|              81|           77|           91|            89|              84|                  91|                     89|                   68|              80|                 75|                 84|                         94|                       92|                      84|                11|                  13|                 15|                     14|                   7|             NULL|79+3|79+3|79+3| 79| 80| 80| 80| 79|82+3|82+3|82+3|80+3|85+3|85+3|85+3|80+3|84+3|89+2|89+2|89+2|84+3|84+3|88+3|88+3|88+3|84+3|20+3|https://cdn.sofif...|         NULL|         NULL|https://cdn.sofif...|https://cdn.sofif...|2021|female|42949672964|\n",
      "|   233746|https://sofifa.co...|   V. Miedema|    Vivianne Miedema|              ST|     91|       94|     NULL|    NULL| 23|1996-07-15|      175|       65|        NULL|     NULL|       NULL|        NULL|         NULL|              NULL|            NULL|       NULL|                     NULL|            34|     Netherlands|      113011.0|             ST|                   9|         Right|        4|          4|                       4|     High/Low|Normal (170-185)|      Yes|              NULL|#Distance Shooter...|   Outside Foot Shot|  79|      92|     75|       86|       32|    79|                69|                 95|                        87|                     85|               89|             87|         76|               71|                67|                90|                   78|                   79|              77|                90|              73|              90|           73|           79|            85|              91|                  66|                     27|                   95|              68|                 78|                 91|                         22|                       30|                      23|                14|                  16|                 17|                     14|                  17|             NULL|90+3|90+3|90+3| 85| 87| 87| 87| 85|84+3|84+3|84+3|83+3|77+3|77+3|77+3|83+3|60+3|59+3|59+3|59+3|60+3|56+3|52+3|52+3|52+3|56+3|24+3|https://cdn.sofif...|         NULL|         NULL|https://cdn.sofif...|https://cdn.sofif...|2021|female|42949672965|\n",
      "|   226301|https://sofifa.co...|    A. Morgan|Alexandra Morgan ...|              ST|     90|       90|     NULL|    NULL| 30|1989-07-02|      170|       62|        NULL|     NULL|       NULL|        NULL|         NULL|              NULL|            NULL|       NULL|                     NULL|            95|   United States|      113009.0|            SUB|                  13|          Left|        4|          4|                       5|     High/Low|          Unique|      Yes|              NULL|  #Clinical Finisher|Leadership, Fines...|  86|      88|     74|       85|       43|    71|                71|                 90|                        86|                     81|               88|             87|         68|               70|                67|                89|                   85|                   86|              76|                83|              68|              86|           76|           75|            76|              83|                  53|                     63|                   90|              74|                 89|                 91|                         34|                       29|                      27|                11|                  11|                 10|                     10|                  11|             NULL|87+3|87+3|87+3| 84| 86| 86| 86| 84|83+3|83+3|83+3|82+3|77+3|77+3|77+3|82+3|65+3|63+3|63+3|63+3|65+3|62+3|56+3|56+3|56+3|62+3|19+3|https://cdn.sofif...|         NULL|         NULL|https://cdn.sofif...|https://cdn.sofif...|2021|female|42949672966|\n",
      "|   226330|https://sofifa.co...|     T. Heath|  Tobin Powell Heath|     RW, CAM, LW|     90|       90|     NULL|    NULL| 32|1988-05-29|      168|       59|        NULL|     NULL|       NULL|        NULL|         NULL|              NULL|            NULL|       NULL|                     NULL|            95|   United States|      113009.0|             RW|                  17|         Right|        5|          5|                       4|  Medium/High|     Lean (170-)|      Yes|              NULL|#Dribbler, #Playm...|Flair, Technical ...|  77|      79|     89|       93|       36|    64|                93|                 79|                        63|                     88|               81|             95|         88|               79|                87|                94|                   78|                   76|              88|                87|              80|              75|           58|           70|            61|              77|                  65|                     23|                   88|              90|                 82|                 92|                         31|                       38|                      39|                12|                   7|                  7|                     16|                   8|             NULL|81+3|81+3|81+3| 88| 86| 86| 86| 88|88+2|88+2|88+2|87+3|82+3|82+3|82+3|87+3|65+3|63+3|63+3|63+3|65+3|60+3|50+3|50+3|50+3|60+3|19+3|https://cdn.sofif...|         NULL|         NULL|https://cdn.sofif...|https://cdn.sofif...|2021|female|42949672967|\n",
      "|   227102|https://sofifa.co...|    C. Hansen|Caroline Graham H...|     RM, CAM, ST|     90|       93|     NULL|    NULL| 25|1995-02-18|      178|       66|        NULL|     NULL|       NULL|        NULL|         NULL|              NULL|            NULL|       NULL|                     NULL|            36|          Norway|      113007.0|             RS|                  10|         Right|        4|          4|                       4|  High/Medium|Normal (170-185)|      Yes|              NULL|#Dribbler, #Cross...|Flair, Playmaker ...|  87|      83|     86|       90|       45|    75|                88|                 86|                        75|                     87|               82|             92|         86|               77|                84|                90|                   86|                   88|              85|                87|              75|              79|           68|           84|            74|              82|                  66|                     24|                   86|              85|                 80|                 84|                         45|                       50|                      46|                17|                  11|                 15|                     13|                   9|             NULL|84+3|84+3|84+3| 88| 87| 87| 87| 88|87+3|87+3|87+3|88+3|82+3|82+3|82+3|88+3|69+3|66+3|66+3|66+3|69+3|66+3|58+3|58+3|58+3|66+3|21+3|https://cdn.sofif...|         NULL|         NULL|https://cdn.sofif...|https://cdn.sofif...|2021|female|42949672968|\n",
      "|   227246|https://sofifa.co...|    L. Bronze|Lucia Roberta Tou...|          RB, CM|     90|       90|     NULL|    NULL| 28|1991-10-28|      171|       67|        NULL|     NULL|       NULL|        NULL|         NULL|              NULL|            NULL|       NULL|                     NULL|            14|         England|      113002.0|             RB|                   2|         Right|        3|          3|                       4|    High/High|Normal (170-185)|      Yes|              NULL|#Engine, #Tacklin...|Long Throw-in, Le...|  85|      54|     68|       81|       88|    84|                77|                 48|                        86|                     79|               35|             79|         39|               43|                63|                84|                   86|                   84|              73|                93|              82|              66|           84|           94|            82|              59|                  78|                     89|                   57|              58|                 53|                 80|                         90|                       86|                      87|                10|                  14|                 16|                      8|                  15|             NULL|71+3|71+3|71+3| 74| 72| 72| 72| 74|72+3|72+3|72+3|76+3|75+3|75+3|75+3|76+3|86+3|83+3|83+3|83+3|86+3|86+3|86+3|86+3|86+3|86+3|21+3|https://cdn.sofif...|         NULL|         NULL|https://cdn.sofif...|https://cdn.sofif...|2021|female|42949672969|\n",
      "|   227331|https://sofifa.co...| E. Le Sommer|Eugénie Anne Clau...|     ST, LW, CAM|     90|       90|     NULL|    NULL| 31|1989-05-18|      161|       58|        NULL|     NULL|       NULL|        NULL|         NULL|              NULL|            NULL|       NULL|                     NULL|            18|          France|      113003.0|             ST|                   9|         Right|        5|          4|                       4|  Medium/High|   Stocky (170-)|      Yes|              NULL|#Poacher, #Distan...|Long Shot Taker (...|  81|      92|     73|       84|       45|    70|                56|                 93|                        91|                     83|               89|             83|         81|               65|                66|                87|                   78|                   83|              81|                89|              82|              92|           81|           71|            74|              91|                  58|                     33|                   90|              79|                 85|                 79|                         52|                       36|                      25|                17|                   9|                 13|                     12|                  14|             NULL|88+2|88+2|88+2| 83| 87| 87| 87| 83|84+3|84+3|84+3|80+3|77+3|77+3|77+3|80+3|61+3|61+3|61+3|61+3|61+3|59+3|57+3|57+3|57+3|59+3|21+3|https://cdn.sofif...|         NULL|         NULL|https://cdn.sofif...|https://cdn.sofif...|2021|female|42949672970|\n",
      "|   226359|https://sofifa.co...|  C. Sinclair|Christine Margare...|         ST, CAM|     89|       89|     NULL|    NULL| 37|1983-06-12|      176|       67|        NULL|     NULL|       NULL|        NULL|         NULL|              NULL|            NULL|       NULL|                     NULL|            70|          Canada|      113000.0|             LS|                  12|         Right|        4|          4|                       4|  High/Medium|Normal (170-185)|      Yes|              NULL|#Playmaker, #Dist...|Leadership, Fines...|  72|      89|     85|       84|       37|    80|                82|                 91|                        85|                     87|               87|             85|         70|               76|                84|                88|                   71|                   73|              80|                77|              68|              90|           76|           78|            86|              87|                  67|                     56|                   88|              91|                 86|                 95|                         32|                       19|                      16|                17|                   9|                  7|                     12|                   8|             NULL|86+3|86+3|86+3| 84| 85| 85| 85| 84|86+3|86+3|86+3|84+3|81+3|81+3|81+3|84+3|62+3|64+3|64+3|64+3|62+3|58+3|54+3|54+3|54+3|58+3|18+3|https://cdn.sofif...|         NULL|         NULL|https://cdn.sofif...|https://cdn.sofif...|2021|female|42949672971|\n",
      "|   233748|https://sofifa.co...|   L. Martens|       Lieke Martens|         LW, CAM|     89|       89|     NULL|    NULL| 27|1992-12-16|      170|       66|        NULL|     NULL|       NULL|        NULL|         NULL|              NULL|            NULL|       NULL|                     NULL|            34|     Netherlands|      113011.0|             LW|                  11|         Right|        4|          5|                       5|Medium/Medium|   Normal (170-)|      Yes|              NULL|#Dribbler, #Playm...|Flair, Playmaker ...|  82|      87|     86|       89|       41|    73|                89|                 89|                        57|                     87|               78|             90|         87|               80|                80|                89|                   80|                   83|              88|                84|              85|              84|           69|           79|            74|              90|                  66|                     45|                   88|              87|                 79|                 91|                         40|                       38|                      32|                 7|                   9|                 13|                     16|                  16|             NULL|83+3|83+3|83+3| 87| 87| 87| 87| 87|87+2|87+2|87+2|86+3|82+3|82+3|82+3|86+3|68+3|66+3|66+3|66+3|68+3|63+3|55+3|55+3|55+3|63+3|20+3|https://cdn.sofif...|         NULL|         NULL|https://cdn.sofif...|https://cdn.sofif...|2021|female|42949672972|\n",
      "|   226177|https://sofifa.co...|B. Sauerbrunn|Rebecca Elizabeth...|          CB, RB|     88|       88|     NULL|    NULL| 35|1985-06-06|      170|       64|        NULL|     NULL|       NULL|        NULL|         NULL|              NULL|            NULL|       NULL|                     NULL|            95|   United States|      113009.0|            LCB|                   4|         Right|        2|          2|                       4|     Low/High|Normal (170-185)|      Yes|              NULL|#Tackling, #Tacti...|                NULL|  73|      37|     62|       61|       88|    86|                65|                 31|                        79|                     77|               28|             56|         41|               29|                62|                66|                   73|                   73|              51|                87|              70|              47|           86|           80|            88|              34|                  88|                     88|                   47|              45|                 57|                 89|                         89|                       88|                      89|                15|                  12|                  7|                     10|                  11|             NULL|58+3|58+3|58+3| 59| 58| 58| 58| 59|59+3|59+3|59+3|63+3|66+3|66+3|66+3|63+3|79+3|80+3|80+3|80+3|79+3|81+3|86+2|86+2|86+2|81+3|20+3|https://cdn.sofif...|         NULL|         NULL|https://cdn.sofif...|https://cdn.sofif...|2021|female|42949672973|\n",
      "|   226302|https://sofifa.co...|      A. Popp|      Alexandra Popp|          ST, LM|     88|       88|     NULL|    NULL| 29|1991-04-06|      174|       65|        NULL|     NULL|       NULL|        NULL|         NULL|              NULL|            NULL|       NULL|                     NULL|            21|         Germany|      113004.0|             ST|                  11|         Right|        5|          4|                       4|Medium/Medium|Normal (170-185)|      Yes|              NULL|#Poacher, #Aerial...|Power Header, Out...|  81|      88|     77|       81|       49|    86|                74|                 88|                        91|                     85|               83|             82|         73|               73|                67|                84|                   84|                   79|              71|                88|              70|              88|           92|           83|            87|              87|                  84|                     55|                   90|              74|                 87|                 78|                         35|                       52|                      23|                12|                  14|                 13|                      7|                  14|             NULL|87+1|87+1|87+1| 83| 85| 85| 85| 83|83+3|83+3|83+3|82+3|78+3|78+3|78+3|82+3|67+3|67+3|67+3|67+3|67+3|64+3|63+3|63+3|63+3|64+3|20+3|https://cdn.sofif...|         NULL|         NULL|https://cdn.sofif...|https://cdn.sofif...|2021|female|42949672974|\n",
      "|   226324|https://sofifa.co...|     C. Lloyd|  Carli Anne Hollins|          CM, ST|     88|       88|     NULL|    NULL| 37|1982-07-16|      173|       64|        NULL|     NULL|       NULL|        NULL|         NULL|              NULL|            NULL|       NULL|                     NULL|            95|   United States|      113009.0|             ST|                  10|         Right|        3|          4|                       5|  High/Medium|Normal (170-185)|      Yes|              NULL|#Dribbler, #Playm...|Leadership, Playm...|  72|      83|     85|       86|       74|    78|                74|                 83|                        78|                     88|               68|             88|         81|               92|                89|                89|                   71|                   72|              76|                73|              78|              84|           79|           72|            79|              85|                  84|                     85|                   86|              88|                 87|                 95|                         70|                       70|                      68|                13|                   7|                 15|                     10|                  16|             NULL|82+3|82+3|82+3| 83| 84| 84| 84| 83|85+3|85+3|85+3|82+3|85+3|85+3|85+3|82+3|77+3|80+3|80+3|80+3|77+3|75+3|77+3|77+3|77+3|75+3|18+3|https://cdn.sofif...|         NULL|         NULL|https://cdn.sofif...|https://cdn.sofif...|2021|female|42949672975|\n",
      "|   226333|https://sofifa.co...|      J. Ertz|     Julie Beth Ertz|         CDM, CB|     88|       89|     NULL|    NULL| 28|1992-04-06|      170|       59|        NULL|     NULL|       NULL|        NULL|         NULL|              NULL|            NULL|       NULL|                     NULL|            95|   United States|      113009.0|             CM|                   8|         Right|        3|          3|                       4|  Medium/High|   Normal (170-)|      Yes|              NULL|#Aerial Threat, #...|                NULL|  77|      66|     79|       73|       86|    85|                73|                 66|                        91|                     86|               63|             70|         56|               50|                84|                81|                   76|                   78|              65|                82|              69|              76|           72|           88|            85|              54|                  86|                     86|                   78|              82|                 62|                 88|                         83|                       88|                      84|                12|                  11|                  9|                     15|                  13|             NULL|77+3|77+3|77+3| 75| 77| 77| 77| 75|77+3|77+3|77+3|78+3|81+3|81+3|81+3|78+3|82+3|85+3|85+3|85+3|82+3|83+3|85+3|85+3|85+3|83+3|20+3|https://cdn.sofif...|         NULL|         NULL|https://cdn.sofif...|https://cdn.sofif...|2021|female|42949672976|\n",
      "|   227350|https://sofifa.co...|     A. Majri|          Amel Majri|          LM, LB|     87|       87|     NULL|    NULL| 27|1993-01-25|      164|       54|        NULL|     NULL|       NULL|        NULL|         NULL|              NULL|            NULL|       NULL|                     NULL|            18|          France|      113003.0|            LAM|                  10|          Left|        3|          4|                       3|    High/High|     Lean (170-)|      Yes|              NULL|#Dribbler, #Engin...|Early Crosser, Fl...|  84|      66|     86|       88|       85|    78|                93|                 78|                        74|                     88|               38|             89|         84|               81|                78|                88|                   87|                   82|              84|                86|              84|              49|           70|           87|            75|              64|                  78|                     86|                   80|              82|                 56|                 84|                         87|                       87|                      86|                10|                  16|                 12|                     14|                  10|             NULL|77+3|77+3|77+3| 85| 82| 82| 82| 85|84+3|84+3|84+3|86+1|84+3|84+3|84+3|86+1|  87|85+2|85+2|85+2|  87|86+1|83+3|83+3|83+3|86+1|21+3|https://cdn.sofif...|         NULL|         NULL|https://cdn.sofif...|https://cdn.sofif...|2021|female|42949672977|\n",
      "|   231432|https://sofifa.co...|     L. Horan|Lindsey Michelle ...|         CAM, CM|     87|       90|     NULL|    NULL| 26|1994-05-26|      175|       67|        NULL|     NULL|       NULL|        NULL|         NULL|              NULL|            NULL|       NULL|                     NULL|            95|   United States|      113009.0|            LCM|                   9|         Right|        3|          4|                       3|  High/Medium|Stocky (170-185)|      Yes|              NULL|#Playmaker, #Dist...|        Power Header|  79|      86|     85|       84|       59|    76|                79|                 86|                        89|                     89|               80|             85|         65|               73|                87|                87|                   80|                   79|              78|                89|              68|              89|           73|           92|            75|              88|                  59|                     67|                   89|              88|                 75|                 76|                         53|                       60|                      26|                 7|                  15|                 13|                      9|                  11|             NULL|86+3|86+3|86+3| 85| 87| 87| 87| 85|87+3|87+3|87+3|86+3|86+3|86+3|86+3|86+3|72+3|74+3|74+3|74+3|72+3|70+3|66+3|66+3|66+3|70+3|19+3|https://cdn.sofif...|         NULL|         NULL|https://cdn.sofif...|https://cdn.sofif...|2021|female|42949672978|\n",
      "|   245872|https://sofifa.co...|    K. Little|   Kim Alison Little|         CAM, CM|     87|       87|     NULL|    NULL| 30|1990-06-29|      162|       58|        NULL|     NULL|       NULL|        NULL|         NULL|              NULL|            NULL|       NULL|                     NULL|            42|        Scotland|      113984.0|            CAM|                   8|         Right|        4|          4|                       4|Medium/Medium|   Normal (170-)|       No|              NULL|#Dribbler, #Playm...|Injury Prone, Lea...|  77|      84|     86|       87|       43|    69|                84|                 82|                        65|                     88|               82|             87|         77|               85|                84|                90|                   80|                   75|              80|                88|              88|              87|           75|           83|            62|              85|                  65|                     45|                   88|              89|                 85|                 85|                         38|                       46|                      22|                12|                   5|                  6|                     10|                   6|             NULL|82+3|82+3|82+3| 86| 86| 86| 86| 86|  87|  87|  87|86+1|83+3|83+3|83+3|86+1|67+3|66+3|66+3|66+3|67+3|62+3|55+3|55+3|55+3|62+3|17+3|https://cdn.sofif...|         NULL|         NULL|https://cdn.sofif...|https://cdn.sofif...|2021|female|42949672979|\n",
      "+---------+--------------------+-------------+--------------------+----------------+-------+---------+---------+--------+---+----------+---------+---------+------------+---------+-----------+------------+-------------+------------------+----------------+-----------+-------------------------+--------------+----------------+--------------+---------------+--------------------+--------------+---------+-----------+------------------------+-------------+----------------+---------+------------------+--------------------+--------------------+----+--------+-------+---------+---------+------+------------------+-------------------+--------------------------+-----------------------+-----------------+---------------+-----------+-----------------+------------------+------------------+---------------------+---------------------+----------------+------------------+----------------+----------------+-------------+-------------+--------------+----------------+--------------------+-----------------------+---------------------+----------------+-------------------+-------------------+---------------------------+-------------------------+------------------------+------------------+--------------------+-------------------+-----------------------+--------------------+-----------------+----+----+----+---+---+---+---+---+----+----+----+----+----+----+----+----+----+----+----+----+----+----+----+----+----+----+----+--------------------+-------------+-------------+--------------------+--------------------+----+------+-----------+\n",
      "only showing top 20 rows\n",
      "\n"
     ]
    }
   ],
   "source": [
    "#combined_df.read.show(10, vertical = True)\n",
    "combined_df.filter(F.col('year') == 2021).show()"
   ]
  },
  {
   "cell_type": "code",
   "execution_count": 6,
   "metadata": {
    "colab": {
     "base_uri": "https://localhost:8080/"
    },
    "id": "tUIuHyHkamkz",
    "outputId": "9337c107-0526-4813-c651-5251ee0ab85a"
   },
   "outputs": [
    {
     "name": "stdout",
     "output_type": "stream",
     "text": [
      "+---------+--------------------+-----------------+--------------------+----------------+-------+---------+---------+--------+---+----------+---------+---------+------------+-------------------+--------------------+------------+-------------+------------------+----------------+-----------+-------------------------+--------------+----------------+--------------+---------------+--------------------+--------------+---------+-----------+------------------------+-------------+----------------+---------+------------------+--------------------+--------------------+----+--------+-------+---------+---------+------+------------------+-------------------+--------------------------+-----------------------+-----------------+---------------+-----------+-----------------+------------------+------------------+---------------------+---------------------+----------------+------------------+----------------+----------------+-------------+-------------+--------------+----------------+--------------------+-----------------------+---------------------+----------------+-------------------+-------------------+---------------------------+-------------------------+------------------------+------------------+--------------------+-------------------+-----------------------+--------------------+-----------------+----+----+----+----+----+----+----+----+----+----+----+----+----+----+----+----+----+----+----+----+----+----+----+----+----+----+----+--------------------+--------------------+--------------------+--------------------+--------------------+----+------+-----------+\n",
      "|sofifa_id|          player_url|       short_name|           long_name|player_positions|overall|potential|value_eur|wage_eur|age|       dob|height_cm|weight_kg|club_team_id|          club_name|         league_name|league_level|club_position|club_jersey_number|club_loaned_from|club_joined|club_contract_valid_until|nationality_id|nationality_name|nation_team_id|nation_position|nation_jersey_number|preferred_foot|weak_foot|skill_moves|international_reputation|    work_rate|       body_type|real_face|release_clause_eur|         player_tags|       player_traits|pace|shooting|passing|dribbling|defending|physic|attacking_crossing|attacking_finishing|attacking_heading_accuracy|attacking_short_passing|attacking_volleys|skill_dribbling|skill_curve|skill_fk_accuracy|skill_long_passing|skill_ball_control|movement_acceleration|movement_sprint_speed|movement_agility|movement_reactions|movement_balance|power_shot_power|power_jumping|power_stamina|power_strength|power_long_shots|mentality_aggression|mentality_interceptions|mentality_positioning|mentality_vision|mentality_penalties|mentality_composure|defending_marking_awareness|defending_standing_tackle|defending_sliding_tackle|goalkeeping_diving|goalkeeping_handling|goalkeeping_kicking|goalkeeping_positioning|goalkeeping_reflexes|goalkeeping_speed|  ls|  st|  rs|  lw|  lf|  cf|  rf|  rw| lam| cam| ram|  lm| lcm|  cm| rcm|  rm| lwb| ldm| cdm| rdm| rwb|  lb| lcb|  cb| rcb|  rb|  gk|     player_face_url|       club_logo_url|       club_flag_url|     nation_logo_url|     nation_flag_url|year|gender|  unique_id|\n",
      "+---------+--------------------+-----------------+--------------------+----------------+-------+---------+---------+--------+---+----------+---------+---------+------------+-------------------+--------------------+------------+-------------+------------------+----------------+-----------+-------------------------+--------------+----------------+--------------+---------------+--------------------+--------------+---------+-----------+------------------------+-------------+----------------+---------+------------------+--------------------+--------------------+----+--------+-------+---------+---------+------+------------------+-------------------+--------------------------+-----------------------+-----------------+---------------+-----------+-----------------+------------------+------------------+---------------------+---------------------+----------------+------------------+----------------+----------------+-------------+-------------+--------------+----------------+--------------------+-----------------------+---------------------+----------------+-------------------+-------------------+---------------------------+-------------------------+------------------------+------------------+--------------------+-------------------+-----------------------+--------------------+-----------------+----+----+----+----+----+----+----+----+----+----+----+----+----+----+----+----+----+----+----+----+----+----+----+----+----+----+----+--------------------+--------------------+--------------------+--------------------+--------------------+----+------+-----------+\n",
      "|   158023|https://sofifa.co...|         L. Messi|Lionel Andrés Mes...|              CF|     93|       95|  1.005E8|550000.0| 27|1987-06-24|      169|       67|       241.0|       FC Barcelona|Spain Primera Div...|           1|           CF|                10|            NULL| 2004-07-01|                     2018|            52|       Argentina|        1369.0|             CF|                  10|          Left|        3|          4|                       5|   Medium/Low|   Normal (170-)|      Yes|              NULL|#Speedster, #Drib...|Finesse Shot, Spe...|  93|      89|     86|       96|       27|    63|                84|                 94|                        71|                     89|               85|             96|         89|               90|                76|                96|                   96|                   90|              94|                94|              95|              80|           73|           77|            60|              88|                  48|                     22|                   92|              90|                 76|               NULL|                         25|                       21|                      20|                 6|                  11|                 15|                     14|                   8|             NULL|89+3|89+3|89+3|92+3|90+3|90+3|90+3|92+3|92+3|92+3|92+3|90+3|79+3|79+3|79+3|90+3|62+3|62+3|62+3|62+3|62+3|54+3|45+3|45+3|45+3|54+3|15+3|https://cdn.sofif...|https://cdn.sofif...|https://cdn.sofif...|https://cdn.sofif...|https://cdn.sofif...|2015|  male|60129542144|\n",
      "|    20801|https://sofifa.co...|Cristiano Ronaldo|Cristiano Ronaldo...|          LW, LM|     92|       92|    7.9E7|375000.0| 29|1985-02-05|      185|       80|       243.0|     Real Madrid CF|Spain Primera Div...|           1|           LW|                 7|            NULL| 2009-07-01|                     2018|            38|        Portugal|        1354.0|             LW|                   7|         Right|        4|          5|                       5|     High/Low|   Normal (185+)|      Yes|              NULL|#Speedster, #Drib...|Power Free-Kick, ...|  93|      93|     81|       91|       32|    79|                83|                 95|                        86|                     82|               87|             93|         88|               79|                72|                92|                   91|                   94|              93|                90|              63|              94|           94|           89|            79|              93|                  63|                     24|                   91|              81|                 85|               NULL|                         22|                       31|                      23|                 7|                  11|                 15|                     14|                  11|             NULL|91+1|91+1|91+1|89+3|91+1|91+1|91+1|89+3|89+3|89+3|89+3|87+3|77+3|77+3|77+3|87+3|63+3|63+3|63+3|63+3|63+3|57+3|52+3|52+3|52+3|57+3|16+3|https://cdn.sofif...|https://cdn.sofif...|https://cdn.sofif...|https://cdn.sofif...|https://cdn.sofif...|2015|  male|60129542145|\n",
      "|     9014|https://sofifa.co...|        A. Robben|        Arjen Robben|      RM, LM, RW|     90|       90|   5.45E7|275000.0| 30|1984-01-23|      180|       80|        21.0|  FC Bayern München|German 1. Bundesliga|           1|          SUB|                10|            NULL| 2009-08-28|                     2017|            34|     Netherlands|      105035.0|             RS|                  11|          Left|        2|          4|                       5|     High/Low|Normal (170-185)|      Yes|              NULL|#Speedster, #Drib...|Diver, Injury Pro...|  93|      86|     83|       92|       32|    64|                80|                 85|                        50|                     86|               86|             93|         85|               83|                76|                90|                   93|                   93|              93|                89|              91|              86|           61|           78|            65|              90|                  47|                     39|                   89|              84|                 80|               NULL|                         29|                       26|                      26|                10|                   8|                 11|                      5|                  15|             NULL|84+3|84+3|84+3|88+2|87+3|87+3|87+3|88+2|88+2|88+2|88+2|87+3|78+3|78+3|78+3|87+3|64+3|64+3|64+3|64+3|64+3|55+3|46+3|46+3|46+3|55+3|14+3|https://cdn.sofif...|https://cdn.sofif...|https://cdn.sofif...|https://cdn.sofif...|https://cdn.sofif...|2015|  male|60129542146|\n",
      "|    41236|https://sofifa.co...|   Z. Ibrahimović|  Zlatan Ibrahimović|              ST|     90|       90|   5.25E7|275000.0| 32|1981-10-03|      195|       95|        73.0|Paris Saint-Germain|      French Ligue 1|           1|           ST|                10|            NULL| 2012-07-01|                     2016|            46|          Sweden|        1363.0|             ST|                  10|         Right|        4|          4|                       5|   Medium/Low|   Normal (185+)|      Yes|              NULL|#Poacher, #Aerial...|Power Free-Kick, ...|  76|      91|     81|       86|       34|    86|                76|                 91|                        76|                     84|               92|             88|         80|               80|                76|                90|                   74|                   77|              86|                85|              41|              93|           72|           78|            93|              88|                  84|                     20|                   86|              83|                 91|               NULL|                         25|                       41|                      27|                13|                  15|                 10|                      9|                  12|             NULL|87+3|87+3|87+3|84+3|86+3|86+3|86+3|84+3|86+3|86+3|86+3|83+3|76+3|76+3|76+3|83+3|61+3|65+3|65+3|65+3|61+3|56+3|55+3|55+3|55+3|56+3|17+3|https://cdn.sofif...|https://cdn.sofif...|https://cdn.sofif...|https://cdn.sofif...|https://cdn.sofif...|2015|  male|60129542147|\n",
      "|   167495|https://sofifa.co...|         M. Neuer|  Manuel Peter Neuer|              GK|     90|       90|   6.35E7|300000.0| 28|1986-03-27|      193|       92|        21.0|  FC Bayern München|German 1. Bundesliga|           1|           GK|                 1|            NULL| 2011-07-01|                     2019|            21|         Germany|        1337.0|             GK|                   1|         Right|        4|          1|                       5|Medium/Medium|   Normal (185+)|      Yes|              NULL|                NULL|GK Up for Corners...|NULL|    NULL|   NULL|     NULL|     NULL|  NULL|                25|                 25|                        25|                     42|               25|             25|         25|               25|                41|                31|                   58|                   61|              43|                89|              35|              42|           78|           44|            83|              25|                  29|                     30|                   25|              20|                 37|               NULL|                         25|                       25|                      25|                87|                  85|                 92|                     90|                  86|               60|38+3|38+3|38+3|36+3|37+3|37+3|37+3|36+3|36+3|36+3|36+3|38+3|36+3|36+3|36+3|38+3|36+3|40+3|40+3|40+3|36+3|36+3|38+3|38+3|38+3|36+3|87+3|https://cdn.sofif...|https://cdn.sofif...|https://cdn.sofif...|https://cdn.sofif...|https://cdn.sofif...|2015|  male|60129542148|\n",
      "|       41|https://sofifa.co...|          Iniesta|Andrés Iniesta Luján|          CM, LW|     89|       89|    3.6E7|250000.0| 30|1984-05-11|      170|       65|       241.0|       FC Barcelona|Spain Primera Div...|           1|          LCM|                 8|            NULL| 2002-07-01|                     2018|            45|           Spain|        1362.0|             LW|                   6|         Right|        4|          4|                       5|  High/Medium|   Normal (170-)|      Yes|              NULL|#Dribbler, #Playm...|Finesse Shot, Pla...|  75|      72|     89|       91|       59|    63|                85|                 73|                        54|                     93|               74|             92|         80|               70|                89|                94|                   76|                   75|              83|                90|              86|              65|           54|           78|            59|              75|                  58|                     68|                   87|              93|                 71|               NULL|                         57|                       57|                      56|                 6|                  13|                  6|                     13|                   7|             NULL|77+3|77+3|77+3|87+2|82+3|82+3|82+3|87+2|88+1|88+1|88+1|88+1|86+3|86+3|86+3|88+1|76+3|77+3|77+3|77+3|76+3|70+3|63+3|63+3|63+3|70+3|14+3|https://cdn.sofif...|https://cdn.sofif...|https://cdn.sofif...|https://cdn.sofif...|https://cdn.sofif...|2015|  male|60129542149|\n",
      "|   176580|https://sofifa.co...|        L. Suárez|Luis Alberto Suár...|          ST, CF|     89|       91|   4.95E7|300000.0| 27|1987-01-24|      181|       81|       241.0|       FC Barcelona|Spain Primera Div...|           1|          RES|                 9|            NULL| 2014-07-11|                     2019|            60|         Uruguay|          NULL|           NULL|                NULL|         Right|        4|          4|                       5|  High/Medium|Normal (170-185)|      Yes|              NULL|#Acrobat, #Clinic...|Diver, Beat Offsi...|  83|      87|     79|       88|       42|    79|                77|                 91|                        75|                     82|               85|             90|         86|               84|                64|                89|                   88|                   79|              86|                91|              60|              84|           69|           86|            76|              82|                  78|                     41|                   88|              84|                 85|               NULL|                         30|                       45|                      38|                27|                  25|                 31|                     33|                  37|             NULL|86+3|86+3|86+3|85+3|86+3|86+3|86+3|85+3|87+3|87+3|87+3|84+3|77+3|77+3|77+3|84+3|67+3|67+3|67+3|67+3|67+3|62+3|57+3|57+3|57+3|62+3|34+3|https://cdn.sofif...|https://cdn.sofif...|https://cdn.sofif...|                NULL|https://cdn.sofif...|2015|  male|60129542150|\n",
      "|     7826|https://sofifa.co...|    R. van Persie|    Robin van Persie|              ST|     88|       88|   4.05E7|230000.0| 30|1983-08-06|      187|       71|        11.0|  Manchester United|English Premier L...|           1|           RS|                20|            NULL| 2012-08-17|                     2016|            34|     Netherlands|      105035.0|             LS|                   9|          Left|        3|          4|                       5|   Medium/Low|   Normal (185+)|      Yes|              NULL|#Distance Shooter...|Injury Prone, Fla...|  74|      90|     82|       83|       33|    68|                81|                 91|                        73|                     85|               92|             84|         86|               81|                75|                87|                   73|                   74|              80|                88|              59|              90|           59|           72|            72|              86|                  55|                     34|                   90|              82|                 86|               NULL|                         23|                       32|                      21|                 9|                  10|                  5|                      7|                   8|             NULL|85+3|85+3|85+3|84+3|86+2|86+2|86+2|84+3|85+3|85+3|85+3|82+3|76+3|76+3|76+3|82+3|60+3|63+3|63+3|63+3|60+3|54+3|48+3|48+3|48+3|54+3|13+3|https://cdn.sofif...|https://cdn.sofif...|https://cdn.sofif...|https://cdn.sofif...|https://cdn.sofif...|2015|  male|60129542151|\n",
      "|   121944|https://sofifa.co...|B. Schweinsteiger|Bastian Schweinst...|         CM, CDM|     88|       88|    3.9E7|200000.0| 29|1984-08-01|      183|       79|        21.0|  FC Bayern München|German 1. Bundesliga|           1|          SUB|                31|            NULL| 2002-07-01|                     2016|            21|         Germany|        1337.0|            SUB|                   7|         Right|        3|          3|                       4|    High/High|Normal (170-185)|      Yes|              NULL|#Playmaker, #Engi...|Injury Prone, Lea...|  61|      81|     85|       82|       78|    80|                81|                 76|                        79|                     88|               83|             81|         82|               78|                87|                86|                   58|                   64|              74|                90|              75|              86|           82|           86|            77|              86|                  80|                     86|                   82|              86|                 81|               NULL|                         69|                       80|                      77|                14|                  14|                 13|                     13|                  11|             NULL|80+2|80+2|80+2|80+2|82+2|82+2|82+2|80+2|84+2|84+2|84+2|82+2|86+2|86+2|86+2|82+2|81+2|84+2|84+2|84+2|81+2|81+2|79+2|79+2|79+2|81+2|18+2|https://cdn.sofif...|https://cdn.sofif...|https://cdn.sofif...|https://cdn.sofif...|https://cdn.sofif...|2015|  male|60129542152|\n",
      "|   156616|https://sofifa.co...|        F. Ribéry| Franck Bilal Ribéry|              LM|     88|       88|    3.3E7|200000.0| 31|1983-04-07|      170|       72|        21.0|  FC Bayern München|German 1. Bundesliga|           1|          SUB|                 7|            NULL| 2007-07-01|                     2017|            18|          France|          NULL|           NULL|                NULL|         Right|        4|          5|                       4|  High/Medium|   Normal (170-)|      Yes|              NULL| #Dribbler, #Acrobat|Injury Prone, Fla...|  89|      78|     85|       92|       29|    62|                83|                 79|                        41|                     89|               81|             92|         84|               81|                74|                91|                   91|                   87|              92|                89|              92|              76|           51|           72|            62|              73|                  52|                     36|                   83|              88|                 80|               NULL|                         25|                       25|                      26|                15|                   6|                  9|                      7|                  10|             NULL|79+2|79+2|79+2|87+1|82+2|82+2|82+2|87+1|87+1|87+1|87+1|86+2|77+2|77+2|77+2|86+2|63+2|63+2|63+2|63+2|63+2|53+2|44+2|44+2|44+2|53+2|14+2|https://cdn.sofif...|https://cdn.sofif...|https://cdn.sofif...|                NULL|https://cdn.sofif...|2015|  male|60129542153|\n",
      "|   167397|https://sofifa.co...|           Falcao|Radamel Falcao Ga...|              ST|     88|       88|   4.65E7|250000.0| 28|1986-02-10|      177|       72|        11.0|  Manchester United|English Premier L...|           1|          SUB|                 9|       AS Monaco|       NULL|                     2015|            56|        Colombia|      111109.0|             ST|                   9|         Right|        4|          4|                       4|  High/Medium|Normal (170-185)|      Yes|              NULL|      #Aerial Threat|Finesse Shot, Pow...|  77|      86|     64|       81|       40|    73|                55|                 91|                        94|                     69|               90|             78|         83|               71|                53|                83|                   80|                   75|              85|                89|              75|              79|           93|           71|            74|              77|                  70|                     41|                   92|              68|                 87|               NULL|                         25|                       42|                      25|                10|                  13|                  6|                      9|                   5|             NULL|86+2|86+2|86+2|76+2|83+2|83+2|83+2|76+2|79+2|79+2|79+2|73+2|69+2|69+2|69+2|73+2|58+2|60+2|60+2|60+2|58+2|56+2|55+2|55+2|55+2|56+2|14+2|https://cdn.sofif...|https://cdn.sofif...|https://cdn.sofif...|https://cdn.sofif...|https://cdn.sofif...|2015|  male|60129542154|\n",
      "|   183277|https://sofifa.co...|        E. Hazard|         Eden Hazard|          LM, RM|     88|       90|   4.05E7|210000.0| 23|1991-01-07|      173|       74|         5.0|            Chelsea|English Premier L...|           1|           LM|                10|            NULL| 2012-07-01|                     2017|             7|         Belgium|        1325.0|             LM|                  10|         Right|        4|          4|                       4|  High/Medium|Normal (170-185)|      Yes|              NULL|#Speedster, #Drib...|Injury Free, Self...|  90|      82|     84|       91|       32|    64|                78|                 83|                        57|                     87|               79|             92|         82|               79|                82|                89|                   93|                   87|              92|                85|              90|              79|           59|           74|            63|              82|                  54|                     41|                   84|              86|                 86|               NULL|                         25|                       27|                      22|                11|                  12|                  6|                      8|                   8|             NULL|81+2|81+2|81+2|86+2|84+2|84+2|84+2|86+2|87+2|87+2|87+2|86+2|78+2|78+2|78+2|86+2|62+2|64+2|64+2|64+2|62+2|54+2|46+2|46+2|46+2|54+2|14+2|https://cdn.sofif...|https://cdn.sofif...|https://cdn.sofif...|https://cdn.sofif...|https://cdn.sofif...|2015|  male|60129542155|\n",
      "|   121939|https://sofifa.co...|          P. Lahm|        Philipp Lahm|     CDM, RB, CM|     87|       87|   2.45E7|190000.0| 30|1983-11-11|      170|       66|        21.0|  FC Bayern München|German 1. Bundesliga|           1|          RCM|                21|            NULL| 2002-11-01|                     2018|            21|         Germany|          NULL|           NULL|                NULL|         Right|        3|          3|                       4|    High/High|   Normal (170-)|      Yes|              NULL|#Engine, #Tacklin...|Injury Free, Dive...|  76|      56|     84|       83|       87|    67|                84|                 47|                        64|                     88|               66|             80|         77|               59|                84|                85|                   77|                   76|              83|                92|              92|              57|           72|           88|            59|              65|                  58|                     93|                   69|              84|                 72|               NULL|                         87|                       88|                      95|                11|                  12|                  5|                     14|                   5|             NULL|67+2|67+2|67+2|80+2|72+2|72+2|72+2|80+2|79+2|79+2|79+2|83+2|84+2|84+2|84+2|83+2|88-1|85+2|85+2|85+2|88-1|85+2|81+2|81+2|81+2|85+2|15+2|https://cdn.sofif...|https://cdn.sofif...|https://cdn.sofif...|                NULL|https://cdn.sofif...|2015|  male|60129542156|\n",
      "|   155862|https://sofifa.co...|     Sergio Ramos| Sergio Ramos García|              CB|     87|       87|   3.15E7|220000.0| 28|1986-03-30|      183|       75|       243.0|     Real Madrid CF|Spain Primera Div...|           1|          LCB|                 4|            NULL| 2005-08-01|                     2017|            45|           Spain|        1362.0|            LCB|                  15|         Right|        3|          3|                       4|  High/Medium|Normal (170-185)|      Yes|              NULL|#Tackling, #Tacti...|Leadership, Power...|  79|      61|     71|       66|       87|    82|                74|                 59|                        86|                     76|               55|             52|         73|               64|                70|                83|                   79|                   79|              84|                82|              60|              71|           91|           82|            80|              55|                  83|                     87|                   52|              63|                 68|               NULL|                         85|                       89|                      90|                11|                   8|                  9|                      7|                  11|             NULL|68+2|68+2|68+2|70+2|67+2|67+2|67+2|70+2|68+2|68+2|68+2|71+2|72+2|72+2|72+2|71+2|81+2|80+2|80+2|80+2|81+2|84+2|85+2|85+2|85+2|84+2|14+2|https://cdn.sofif...|https://cdn.sofif...|https://cdn.sofif...|https://cdn.sofif...|https://cdn.sofif...|2015|  male|60129542157|\n",
      "|   164240|https://sofifa.co...|     Thiago Silva|Thiago Emiliano d...|              CB|     87|       87|    2.9E7|190000.0| 29|1984-09-22|      183|       79|        73.0|Paris Saint-Germain|      French Ligue 1|           1|          LCB|                 2|            NULL| 2012-07-01|                     2018|            54|          Brazil|        1370.0|            LCB|                   3|         Right|        3|          3|                       4|  Medium/High|Normal (170-185)|      Yes|              NULL|#Tackling, #Tacti...|Leadership, Long ...|  78|      57|     72|       72|       90|    80|                60|                 38|                        81|                     75|               63|             68|         61|               73|                81|                78|                   75|                   80|              75|                83|              68|              78|           90|           80|            81|              71|                  76|                     91|                   59|              74|                 71|               NULL|                         90|                       91|                      89|                 9|                  12|                  5|                      9|                  10|             NULL|67+2|67+2|67+2|70+2|69+2|69+2|69+2|70+2|71+2|71+2|71+2|73+2|77+2|77+2|77+2|73+2|81+2|82+2|82+2|82+2|81+2|83+2|85+2|85+2|85+2|83+2|14+2|https://cdn.sofif...|https://cdn.sofif...|https://cdn.sofif...|https://cdn.sofif...|https://cdn.sofif...|2015|  male|60129542158|\n",
      "|   168542|https://sofifa.co...|      David Silva|David Josué Jimén...|         LM, CAM|     87|       87|   3.65E7|220000.0| 28|1986-01-08|      170|       67|        10.0|    Manchester City|English Premier L...|           1|          CAM|                21|            NULL| 2010-07-14|                     2019|            45|           Spain|        1362.0|            CAM|                  21|          Left|        2|          4|                       4|     High/Low|Normal (170-185)|      Yes|              NULL|#Dribbler, #Playm...|Avoids Using Weak...|  76|      77|     86|       89|       33|    57|                82|                 76|                        58|                     89|               80|             87|         83|               77|                85|                91|                   83|                   71|              93|                85|              88|              76|           66|           68|            53|              80|                  51|                     41|                   84|              90|                 77|               NULL|                         23|                       30|                      29|                13|                   9|                 13|                      9|                  13|             NULL|78+2|78+2|78+2|85+2|82+2|82+2|82+2|85+2|86+1|86+1|86+1|85+2|79+2|79+2|79+2|85+2|63+2|64+2|64+2|64+2|63+2|54+2|47+2|47+2|47+2|54+2|16+2|https://cdn.sofif...|https://cdn.sofif...|https://cdn.sofif...|https://cdn.sofif...|https://cdn.sofif...|2015|  male|60129542159|\n",
      "|   173731|https://sofifa.co...|          G. Bale|   Gareth Frank Bale|          RM, RW|     87|       91|    3.9E7|200000.0| 24|1989-07-16|      183|       74|       243.0|     Real Madrid CF|Spain Primera Div...|           1|           RW|                11|            NULL| 2013-09-02|                     2019|            50|           Wales|        1367.0|             RM|                  11|          Left|        3|          4|                       4|  High/Medium|  Lean (170-185)|      Yes|              NULL|#Speedster, #Dist...|Avoids Using Weak...|  94|      83|     83|       84|       63|    81|                84|                 81|                        74|                     84|               76|             87|         87|               85|                80|                85|                   93|                   95|              77|                84|              65|              87|           67|           90|            79|              88|                  77|                     59|                   83|              79|                 76|               NULL|                         60|                       65|                      62|                15|                  15|                 11|                      5|                   6|             NULL|83+2|83+2|83+2|85+2|85+2|85+2|85+2|85+2|84+2|84+2|84+2|85+2|81+2|81+2|81+2|85+2|76+2|75+2|75+2|75+2|76+2|74+2|70+2|70+2|70+2|74+2|15+2|https://cdn.sofif...|https://cdn.sofif...|https://cdn.sofif...|https://cdn.sofif...|https://cdn.sofif...|2015|  male|60129542160|\n",
      "|   177003|https://sofifa.co...|        L. Modrić|         Luka Modrić|         CM, CDM|     87|       87|   3.65E7|220000.0| 28|1985-09-09|      174|       65|       243.0|     Real Madrid CF|Spain Primera Div...|           1|          RCM|                19|            NULL| 2012-08-01|                     2018|            10|         Croatia|          NULL|           NULL|                NULL|         Right|        4|          4|                       4|  High/Medium|  Lean (170-185)|      Yes|              NULL|#Dribbler, #Playm...|Long Passer (AI),...|  76|      74|     85|       89|       71|    70|                78|                 71|                        55|                     88|               75|             86|         82|               79|                86|                92|                   78|                   74|              93|                88|              94|              72|           67|           86|            66|              82|                  62|                     73|                   79|              89|                 80|               NULL|                         69|                       75|                      73|                13|                   9|                  7|                     14|                   9|             NULL|76+2|76+2|76+2|84+2|80+2|80+2|80+2|84+2|85+2|85+2|85+2|85+2|85+2|85+2|85+2|85+2|81+2|80+2|80+2|80+2|81+2|76+2|72+2|72+2|72+2|76+2|16+2|https://cdn.sofif...|https://cdn.sofif...|https://cdn.sofif...|                NULL|https://cdn.sofif...|2015|  male|60129542161|\n",
      "|   188545|https://sofifa.co...|   R. Lewandowski|  Robert Lewandowski|          ST, CF|     87|       89|    4.4E7|210000.0| 25|1988-08-21|      184|       78|        21.0|  FC Bayern München|German 1. Bundesliga|           1|           LS|                 9|            NULL| 2014-07-01|                     2019|            37|          Poland|        1353.0|             LS|                   9|         Right|        4|          4|                       4|  High/Medium|Normal (170-185)|      Yes|              NULL|  #Clinical Finisher|Injury Free, Chip...|  80|      84|     74|       85|       39|    78|                62|                 87|                        83|                     83|               82|             84|         77|               68|                65|                87|                   79|                   81|              80|                88|              81|              84|           83|           75|            79|              80|                  80|                     39|                   87|              78|                 77|               NULL|                         25|                       42|                      25|                15|                   6|                 12|                      8|                  10|             NULL|85+2|85+2|85+2|80+2|84+2|84+2|84+2|80+2|84+2|84+2|84+2|79+2|75+2|75+2|75+2|79+2|61+2|65+2|65+2|65+2|61+2|58+2|56+2|56+2|56+2|58+2|15+2|https://cdn.sofif...|https://cdn.sofif...|https://cdn.sofif...|https://cdn.sofif...|https://cdn.sofif...|2015|  male|60129542162|\n",
      "|    10535|https://sofifa.co...|             Xavi|Xavier Hernández ...|              CM|     86|       86|   1.55E7|160000.0| 34|1980-01-25|      170|       68|       241.0|       FC Barcelona|Spain Primera Div...|           1|          SUB|                 6|            NULL| 1998-07-01|                     2021|            45|           Spain|          NULL|           NULL|                NULL|         Right|        3|          3|                       4|Medium/Medium|   Normal (170-)|      Yes|              NULL|#Playmaker, #FK S...|Playmaker (AI), O...|  66|      72|     91|       85|       60|    58|                85|                 74|                        51|                     95|               66|             80|         85|               87|                90|                93|                   67|                   65|              79|                90|              90|              67|           53|           60|            60|              72|                  53|                     71|                   83|              94|                 75|               NULL|                         55|                       61|                      59|                 5|                  15|                 12|                      5|                   9|             NULL|74+2|74+2|74+2|83+2|79+2|79+2|79+2|83+2|  86|  86|  86|84+2|84+2|84+2|84+2|84+2|75+2|77+2|77+2|77+2|75+2|69+2|63+2|63+2|63+2|69+2|13+2|https://cdn.sofif...|https://cdn.sofif...|https://cdn.sofif...|                NULL|https://cdn.sofif...|2015|  male|60129542163|\n",
      "+---------+--------------------+-----------------+--------------------+----------------+-------+---------+---------+--------+---+----------+---------+---------+------------+-------------------+--------------------+------------+-------------+------------------+----------------+-----------+-------------------------+--------------+----------------+--------------+---------------+--------------------+--------------+---------+-----------+------------------------+-------------+----------------+---------+------------------+--------------------+--------------------+----+--------+-------+---------+---------+------+------------------+-------------------+--------------------------+-----------------------+-----------------+---------------+-----------+-----------------+------------------+------------------+---------------------+---------------------+----------------+------------------+----------------+----------------+-------------+-------------+--------------+----------------+--------------------+-----------------------+---------------------+----------------+-------------------+-------------------+---------------------------+-------------------------+------------------------+------------------+--------------------+-------------------+-----------------------+--------------------+-----------------+----+----+----+----+----+----+----+----+----+----+----+----+----+----+----+----+----+----+----+----+----+----+----+----+----+----+----+--------------------+--------------------+--------------------+--------------------+--------------------+----+------+-----------+\n",
      "only showing top 20 rows\n",
      "\n"
     ]
    }
   ],
   "source": [
    "# For analysis in Tasks 2 and 3, we only want to use the male player data\n",
    "# due to missing and NAN values in female player data.\n",
    "\n",
    "analysis_df = combined_df.filter(F.col('gender') == 'male')\n",
    "analysis_df.show()"
   ]
  },
  {
   "cell_type": "markdown",
   "metadata": {},
   "source": [
    "## Part 2"
   ]
  },
  {
   "cell_type": "code",
   "execution_count": 7,
   "metadata": {
    "colab": {
     "base_uri": "https://localhost:8080/"
    },
    "id": "YtMg4wENamkz",
    "outputId": "6e2a98e8-6021-4684-dd59-79d6db0e7a5a"
   },
   "outputs": [
    {
     "name": "stdout",
     "output_type": "stream",
     "text": [
      "-RECORD 0-------------------------\n",
      " club_name | Leeds United         \n",
      " count     | 29                   \n",
      "-RECORD 1-------------------------\n",
      " club_name | Sevilla FC           \n",
      " count     | 29                   \n",
      "-RECORD 2-------------------------\n",
      " club_name | Borussia Möncheng... \n",
      " count     | 27                   \n",
      "\n"
     ]
    }
   ],
   "source": [
    "def clubs_with_most_contracts(df, X, Y, Z):\n",
    "   # X: (int) desired year to query, must be between 2015 and 2022 inclusive\n",
    "   # Y: (int) Number of clubs desired, should be greater than 0\n",
    "   # Z: (int) year of contract end, must be 2023 or after\n",
    "   # In Year X, what were the Y clubs that had the highest number of players with\n",
    "   # contracts ending in year Z (or after)?\n",
    "\n",
    "   if not (2015 <= X <= 2022):\n",
    "      raise ValueError(f\"Invalid: Year {X} is not in range 2015 to 2022\")\n",
    "   if not (Y > 0):\n",
    "      raise ValueError(f\"Invalid: Number of clubs must be greater than 0\")\n",
    "   if not (Z >= 2023):\n",
    "      raise ValueError(f\"Invalid: Contract termination year must be 2023 or after\")\n",
    "\n",
    "   filtered_df_x = df.filter(F.col('year') == X)\n",
    "\n",
    "   filtered_df_z = filtered_df_x.filter(F.col('club_contract_valid_until') >= Z)\n",
    "\n",
    "   filtered_df_y = filtered_df_z.groupBy(\"club_name\").agg(F.count('*').alias('count'))\n",
    "   window = Window.orderBy(F.desc('count'))\n",
    "   df_ranked = filtered_df_y.withColumn('rank', F.row_number().over(window))\n",
    "   df_most_contracts = df_ranked.filter(F.col('rank') <= Y).drop('rank')\n",
    "\n",
    "   return df_most_contracts\n",
    "\n",
    "df_most_contracts = clubs_with_most_contracts(analysis_df, 2022, 3, 2023)\n",
    "df_most_contracts.show(3, vertical = True)\n"
   ]
  },
  {
   "cell_type": "code",
   "execution_count": 8,
   "metadata": {
    "colab": {
     "base_uri": "https://localhost:8080/"
    },
    "id": "wbF4M4H3amkz",
    "outputId": "c30a77cf-923c-4e52-844c-4c432f945b4d"
   },
   "outputs": [
    {
     "name": "stdout",
     "output_type": "stream",
     "text": [
      "+---------------+------------------+----+\n",
      "|      club_name|           avg_age|rank|\n",
      "+---------------+------------------+----+\n",
      "|FC Nordsjælland|20.115384615384617|   1|\n",
      "| SC Freiburg II|20.857142857142858|   2|\n",
      "|Real Sociedad B|             21.16|   3|\n",
      "+---------------+------------------+----+\n",
      "\n"
     ]
    }
   ],
   "source": [
    "\n",
    "def club_average_player_age(df, X, Y, highest = True):\n",
    "   # X: (int) Number of clubs that you want to return, should be > 0\n",
    "   # Y: (int) representing a year between 2015 and 2022, inclusive\n",
    "   # List the X clubs with the highest (or lowest) average player age for a given\n",
    "   # year Y.\n",
    "\n",
    "   if not (X > 0):\n",
    "      raise ValueError(f\"Invalid number of clubs {X}, must be greater than 0\")\n",
    "   if not (2015 <= Y <= 2022):\n",
    "      raise ValueError(f\"Invalid: Year {Y} is not in range 2015 to 2022\")\n",
    "\n",
    "   filtered_df = df.filter(F.col('year') == Y)\n",
    "\n",
    "   avg_age_df = filtered_df.groupBy(\"club_name\").agg(F.avg(\"age\").alias(\"avg_age\"))\n",
    "\n",
    "   if highest:\n",
    "      window_spec = Window.orderBy(F.desc('avg_age'))\n",
    "   else:\n",
    "      window_spec = Window.orderBy(F.asc('avg_age'))\n",
    "\n",
    "   df_ranked = avg_age_df.withColumn('rank', F.rank().over(window_spec))\n",
    "\n",
    "   Xth_rank_value = df_ranked.filter(df_ranked['rank'] == X).select('avg_age').first()\n",
    "\n",
    "   if Xth_rank_value:\n",
    "      Xth_avg_age = Xth_rank_value['avg_age']\n",
    "\n",
    "      # filter clubs with rank <= X or that share Xth rank's avg_age\n",
    "      final_df = df_ranked.filter(\n",
    "         (df_ranked['rank'] <= X) |\n",
    "         (df_ranked['avg_age'] == Xth_avg_age)\n",
    "      ).orderBy('rank')\n",
    "   else:\n",
    "      return \"No clubs found for the given year\"\n",
    "\n",
    "   return final_df\n",
    "\n",
    "avg_ages = club_average_player_age(analysis_df, 3, 2022, highest = False)\n",
    "avg_ages.show()\n"
   ]
  },
  {
   "cell_type": "code",
   "execution_count": 9,
   "metadata": {
    "colab": {
     "base_uri": "https://localhost:8080/"
    },
    "id": "sFS9DQ2Samkz",
    "outputId": "9efe6f99-38aa-4922-d2af-fbcca92a4e42"
   },
   "outputs": [
    {
     "name": "stdout",
     "output_type": "stream",
     "text": [
      "-RECORD 0-------------------\n",
      " year             | 2015    \n",
      " nationality_name | England \n",
      " count            | 1627    \n",
      "-RECORD 1-------------------\n",
      " year             | 2016    \n",
      " nationality_name | England \n",
      " count            | 1519    \n",
      "-RECORD 2-------------------\n",
      " year             | 2017    \n",
      " nationality_name | England \n",
      " count            | 1627    \n",
      "-RECORD 3-------------------\n",
      " year             | 2018    \n",
      " nationality_name | England \n",
      " count            | 1633    \n",
      "-RECORD 4-------------------\n",
      " year             | 2019    \n",
      " nationality_name | England \n",
      " count            | 1625    \n",
      "-RECORD 5-------------------\n",
      " year             | 2020    \n",
      " nationality_name | England \n",
      " count            | 1670    \n",
      "-RECORD 6-------------------\n",
      " year             | 2021    \n",
      " nationality_name | England \n",
      " count            | 1685    \n",
      "-RECORD 7-------------------\n",
      " year             | 2022    \n",
      " nationality_name | England \n",
      " count            | 1719    \n",
      "\n"
     ]
    }
   ],
   "source": [
    "def most_popular_nationality(df):\n",
    "    # What is the most popular nationality in the dataset for each year? (i.e.\n",
    "    # display the most frequent nation for 2015, 2016, etc.).\n",
    "\n",
    "    df_grouped = df.groupBy('year', 'nationality_name').agg(F.count('*').alias('count'))\n",
    "\n",
    "    window = Window.partitionBy('year').orderBy(F.desc('count'))\n",
    "\n",
    "    df_ranked = df_grouped.withColumn('rank', F.row_number().over(window))\n",
    "\n",
    "    df_most_popular = df_ranked.filter(F.col('rank') == 1).drop('rank')\n",
    "\n",
    "    return df_most_popular\n",
    "\n",
    "df_most_popular_nationalities = most_popular_nationality(analysis_df)\n",
    "df_most_popular_nationalities.show(8, vertical = True)\n"
   ]
  },
  {
   "cell_type": "markdown",
   "metadata": {
    "id": "BaqhjPk3cBOv"
   },
   "source": [
    "## Part 3\n"
   ]
  },
  {
   "cell_type": "markdown",
   "metadata": {},
   "source": [
    "#### Section B:"
   ]
  },
  {
   "cell_type": "code",
   "execution_count": 10,
   "metadata": {
    "id": "FVy6Gm_IAmiR"
   },
   "outputs": [],
   "source": [
    "# Dropping unneccessary columns\n",
    "df = combined_df\n",
    "\n",
    "df = df.drop('gender','player_url', 'dob', 'club_team_id', 'club_jersey_number', \n",
    "             'club_loaned_from', 'nation_jersey_number', 'real_face', \n",
    "             'player_face_url', 'club_logo_url', 'club_flag_url', \n",
    "             'nation_logo_url', 'nation_flag_url')\n"
   ]
  },
  {
   "cell_type": "code",
   "execution_count": 11,
   "metadata": {
    "id": "iCJQyysDiEZQ"
   },
   "outputs": [],
   "source": [
    "# Turning our club_joined column (which is of a date datatype) into a timestamp to be able to properly run it through the pipeline later.\n",
    "from pyspark.sql.functions import unix_timestamp\n",
    "\n",
    "df = df.withColumn('club_joined', unix_timestamp('club_joined'))"
   ]
  },
  {
   "cell_type": "code",
   "execution_count": 12,
   "metadata": {
    "id": "X8Wwe97OjPdA"
   },
   "outputs": [],
   "source": [
    "# These columns have \"+\" characters which will not be processed through our pipeline, so we will be changing those now\n",
    "for col in ['ls', 'st', 'rs', 'lam', 'cam', 'ram',  'lm', 'lcm',  'cm', 'rcm', \n",
    "            'rm', 'lwb', 'ldm', 'cdm', 'rdm','rwb', 'lb', 'lcb', 'cb', 'rcb', \n",
    "            'rb', 'gk']:\n",
    "    df = df.withColumn(\n",
    "        col,\n",
    "        (F.split(F.col(col), '\\\\+')[0].cast('int') +\n",
    "         F.split(F.col(col), '\\\\+')[1].cast('int')).cast('int')\n",
    "    )"
   ]
  },
  {
   "cell_type": "code",
   "execution_count": 13,
   "metadata": {
    "id": "8-PdyM2Usd9X"
   },
   "outputs": [],
   "source": [
    "# Converting columns with numbers from string to integers\n",
    "columns_to_convert = ['lw', 'lf', 'cf', 'rf', 'rw']\n",
    "\n",
    "for col in columns_to_convert:\n",
    "    df = df.withColumn(col, df[col].cast('int'))\n"
   ]
  },
  {
   "cell_type": "code",
   "execution_count": 14,
   "metadata": {
    "colab": {
     "base_uri": "https://localhost:8080/"
    },
    "id": "h64v1H-ekR7a",
    "outputId": "6a664413-98fc-4edd-9f5d-85609eddb111"
   },
   "outputs": [
    {
     "name": "stdout",
     "output_type": "stream",
     "text": [
      "-RECORD 0-----------------------------\n",
      " sofifa_id                   | 0      \n",
      " short_name                  | 0      \n",
      " long_name                   | 0      \n",
      " player_positions            | 0      \n",
      " overall                     | 0      \n",
      " potential                   | 0      \n",
      " value_eur                   | 4095   \n",
      " wage_eur                    | 3820   \n",
      " age                         | 0      \n",
      " height_cm                   | 0      \n",
      " weight_kg                   | 0      \n",
      " club_name                   | 3874   \n",
      " league_name                 | 3874   \n",
      " league_level                | 4259   \n",
      " club_position               | 3874   \n",
      " club_joined                 | 12179  \n",
      " club_contract_valid_until   | 3874   \n",
      " nationality_id              | 0      \n",
      " nationality_name            | 0      \n",
      " nation_team_id              | 133635 \n",
      " nation_position             | 133635 \n",
      " preferred_foot              | 0      \n",
      " weak_foot                   | 0      \n",
      " skill_moves                 | 0      \n",
      " international_reputation    | 0      \n",
      " work_rate                   | 0      \n",
      " body_type                   | 0      \n",
      " release_clause_eur          | 57780  \n",
      " player_tags                 | 132633 \n",
      " player_traits               | 80185  \n",
      " pace                        | 16074  \n",
      " shooting                    | 16074  \n",
      " passing                     | 16074  \n",
      " dribbling                   | 16074  \n",
      " defending                   | 16074  \n",
      " physic                      | 16074  \n",
      " attacking_crossing          | 0      \n",
      " attacking_finishing         | 0      \n",
      " attacking_heading_accuracy  | 0      \n",
      " attacking_short_passing     | 0      \n",
      " attacking_volleys           | 0      \n",
      " skill_dribbling             | 0      \n",
      " skill_curve                 | 0      \n",
      " skill_fk_accuracy           | 0      \n",
      " skill_long_passing          | 0      \n",
      " skill_ball_control          | 0      \n",
      " movement_acceleration       | 0      \n",
      " movement_sprint_speed       | 0      \n",
      " movement_agility            | 0      \n",
      " movement_reactions          | 0      \n",
      " movement_balance            | 0      \n",
      " power_shot_power            | 0      \n",
      " power_jumping               | 0      \n",
      " power_stamina               | 0      \n",
      " power_strength              | 0      \n",
      " power_long_shots            | 0      \n",
      " mentality_aggression        | 0      \n",
      " mentality_interceptions     | 0      \n",
      " mentality_positioning       | 0      \n",
      " mentality_vision            | 0      \n",
      " mentality_penalties         | 0      \n",
      " mentality_composure         | 32026  \n",
      " defending_marking_awareness | 0      \n",
      " defending_standing_tackle   | 0      \n",
      " defending_sliding_tackle    | 0      \n",
      " goalkeeping_diving          | 0      \n",
      " goalkeeping_handling        | 0      \n",
      " goalkeeping_kicking         | 0      \n",
      " goalkeeping_positioning     | 0      \n",
      " goalkeeping_reflexes        | 0      \n",
      " goalkeeping_speed           | 128249 \n",
      " ls                          | 34282  \n",
      " st                          | 34282  \n",
      " rs                          | 34282  \n",
      " lw                          | 3859   \n",
      " lf                          | 2981   \n",
      " cf                          | 2981   \n",
      " rf                          | 2981   \n",
      " rw                          | 3859   \n",
      " lam                         | 35047  \n",
      " cam                         | 35047  \n",
      " ram                         | 35047  \n",
      " lm                          | 34541  \n",
      " lcm                         | 33457  \n",
      " cm                          | 33457  \n",
      " rcm                         | 33457  \n",
      " rm                          | 34541  \n",
      " lwb                         | 33579  \n",
      " ldm                         | 33277  \n",
      " cdm                         | 33277  \n",
      " rdm                         | 33277  \n",
      " rwb                         | 33579  \n",
      " lb                          | 32162  \n",
      " lcb                         | 36036  \n",
      " cb                          | 36036  \n",
      " rcb                         | 36036  \n",
      " rb                          | 32162  \n",
      " gk                          | 31370  \n",
      " year                        | 0      \n",
      " unique_id                   | 0      \n",
      "\n"
     ]
    }
   ],
   "source": [
    "# Handling NULL values\n",
    "from pyspark.sql.functions import *\n",
    "\n",
    "# Checking where we have null values\n",
    "null_counts_plays_df = df.select([\n",
    "    count(when(col(c).isNull(), c)).alias(c) if dict(df.dtypes)[c] not in ['double', 'float']\n",
    "    else count(when(isnan(c) | col(c).isNull(), c)).alias(c)\n",
    "    for c in df.columns\n",
    "])\n",
    "\n",
    "null_counts_plays_df.show(truncate=False, vertical=True)"
   ]
  },
  {
   "cell_type": "markdown",
   "metadata": {
    "id": "7HhCF12MkgQs"
   },
   "source": [
    "There are various columns with null values, some ranging from having 61 null values all the way to 18,480 null values. Therefore, for the ones with minimal null values, we can drop– specically if it is less than 6% of the data. The rest we will calculate data.\n"
   ]
  },
  {
   "cell_type": "code",
   "execution_count": 15,
   "metadata": {
    "colab": {
     "base_uri": "https://localhost:8080/"
    },
    "id": "LwmFQx_C0heI",
    "outputId": "17d54020-337b-4237-871f-f03a70d91187"
   },
   "outputs": [
    {
     "name": "stdout",
     "output_type": "stream",
     "text": [
      "-RECORD 0----------------------------\n",
      " sofifa_id                   | 0     \n",
      " short_name                  | 0     \n",
      " long_name                   | 0     \n",
      " player_positions            | 0     \n",
      " overall                     | 0     \n",
      " potential                   | 0     \n",
      " value_eur                   | 0     \n",
      " wage_eur                    | 0     \n",
      " age                         | 0     \n",
      " height_cm                   | 0     \n",
      " weight_kg                   | 0     \n",
      " club_name                   | 0     \n",
      " league_name                 | 0     \n",
      " league_level                | 0     \n",
      " club_position               | 0     \n",
      " club_joined                 | 0     \n",
      " club_contract_valid_until   | 0     \n",
      " nationality_id              | 0     \n",
      " nationality_name            | 0     \n",
      " preferred_foot              | 0     \n",
      " weak_foot                   | 0     \n",
      " skill_moves                 | 0     \n",
      " international_reputation    | 0     \n",
      " work_rate                   | 0     \n",
      " body_type                   | 0     \n",
      " release_clause_eur          | 0     \n",
      " player_traits               | 47501 \n",
      " pace                        | 9732  \n",
      " shooting                    | 9732  \n",
      " passing                     | 9732  \n",
      " dribbling                   | 9732  \n",
      " defending                   | 9732  \n",
      " physic                      | 9732  \n",
      " attacking_crossing          | 0     \n",
      " attacking_finishing         | 0     \n",
      " attacking_heading_accuracy  | 0     \n",
      " attacking_short_passing     | 0     \n",
      " attacking_volleys           | 0     \n",
      " skill_dribbling             | 0     \n",
      " skill_curve                 | 0     \n",
      " skill_fk_accuracy           | 0     \n",
      " skill_long_passing          | 0     \n",
      " skill_ball_control          | 0     \n",
      " movement_acceleration       | 0     \n",
      " movement_sprint_speed       | 0     \n",
      " movement_agility            | 0     \n",
      " movement_reactions          | 0     \n",
      " movement_balance            | 0     \n",
      " power_shot_power            | 0     \n",
      " power_jumping               | 0     \n",
      " power_stamina               | 0     \n",
      " power_strength              | 0     \n",
      " power_long_shots            | 0     \n",
      " mentality_aggression        | 0     \n",
      " mentality_interceptions     | 0     \n",
      " mentality_positioning       | 0     \n",
      " mentality_vision            | 0     \n",
      " mentality_penalties         | 0     \n",
      " mentality_composure         | 0     \n",
      " defending_marking_awareness | 0     \n",
      " defending_standing_tackle   | 0     \n",
      " defending_sliding_tackle    | 0     \n",
      " goalkeeping_diving          | 0     \n",
      " goalkeeping_handling        | 0     \n",
      " goalkeeping_kicking         | 0     \n",
      " goalkeeping_positioning     | 0     \n",
      " goalkeeping_reflexes        | 0     \n",
      " ls                          | 2546  \n",
      " st                          | 2546  \n",
      " rs                          | 2546  \n",
      " lw                          | 1599  \n",
      " lf                          | 1203  \n",
      " cf                          | 1203  \n",
      " rf                          | 1203  \n",
      " rw                          | 1599  \n",
      " lam                         | 3042  \n",
      " cam                         | 3042  \n",
      " ram                         | 3042  \n",
      " lm                          | 2604  \n",
      " lcm                         | 1836  \n",
      " cm                          | 1836  \n",
      " rcm                         | 1836  \n",
      " rm                          | 2604  \n",
      " lwb                         | 1690  \n",
      " ldm                         | 1542  \n",
      " cdm                         | 1542  \n",
      " rdm                         | 1542  \n",
      " rwb                         | 1690  \n",
      " lb                          | 617   \n",
      " lcb                         | 3942  \n",
      " cb                          | 3942  \n",
      " rcb                         | 3942  \n",
      " rb                          | 617   \n",
      " gk                          | 3     \n",
      " year                        | 0     \n",
      " unique_id                   | 0     \n",
      "\n"
     ]
    }
   ],
   "source": [
    "# Dropping columns with minimal null values\n",
    "\n",
    "casted_types_df = df\n",
    "\n",
    "# Drop rows with null values\n",
    "def drop_nulls_in_columns(df: DataFrame, columns: list) -> DataFrame:\n",
    "    filter_condition = None\n",
    "    for column in columns:\n",
    "        if filter_condition is None:\n",
    "            filter_condition = df[column].isNotNull()\n",
    "        else:\n",
    "            filter_condition = filter_condition & df[column].isNotNull()\n",
    "\n",
    "    df_dropped = df.filter(filter_condition)\n",
    "    return df_dropped\n",
    "\n",
    "\n",
    "no_null_df = drop_nulls_in_columns(casted_types_df, [\"value_eur\", \"wage_eur\", \n",
    "                                                     \"club_name\", \"league_name\", \n",
    "                                                     \"league_level\", \n",
    "                                                     \"club_position\", \n",
    "                                                     \"club_contract_valid_until\", \n",
    "                                                     \"club_joined\", \n",
    "                                                     \"release_clause_eur\"])\n",
    "\n",
    "# Also going ahead and dropping columns with nearly 80% or more of their rows being null\n",
    "no_null_df = no_null_df.drop('nation_team_id', 'nation_position', 'player_tags', 'goalkeeping_speed')\n",
    "\n",
    "\n",
    "# Re-showing the null values to make sure our function worked\n",
    "null_counts_plays_df = no_null_df.select([\n",
    "    count(when(col(c).isNull(), c)).alias(c) if dict(no_null_df.dtypes)[c] not in ['double', 'float']\n",
    "    else count(when(isnan(c) | col(c).isNull(), c)).alias(c)\n",
    "    for c in no_null_df.columns\n",
    "])\n",
    "\n",
    "null_counts_plays_df.show(truncate=False, vertical=True)"
   ]
  },
  {
   "cell_type": "code",
   "execution_count": 16,
   "metadata": {
    "id": "W7CbygGwQNTS"
   },
   "outputs": [],
   "source": [
    "# Focusing on filing in the rest of the null values.\n",
    "\n",
    "from pyspark.sql import DataFrame\n",
    "from pyspark.sql import functions as F\n",
    "from pyspark.ml.feature import Imputer\n",
    "\n",
    "def imputation(df: DataFrame, columns: list, missing_value: str = \"NULL\") -> DataFrame:\n",
    "\n",
    "    df_result = no_null_df\n",
    "    for column in columns:\n",
    "        # Replace missing_value with None\n",
    "        df_result = df_result.withColumn(column,\n",
    "                           F.when(F.col(column) == missing_value, None)\n",
    "                           .otherwise(F.col(column)))\n",
    "\n",
    "        # Check if the column is numeric or categorical\n",
    "        if df_result.schema[column].dataType.typeName() in ['integer', 'double', 'float']:\n",
    "            # Fill nulls w -1 for numeric columns\n",
    "            df_filled = df_result.fillna(-1, [column])\n",
    "\n",
    "            # Create an Imputer to replace -1 with the median\n",
    "            imputer = Imputer(\n",
    "                inputCols=[column],\n",
    "                outputCols=[f\"{column}_imputed\"]\n",
    "            ).setStrategy(\"median\").setMissingValue(-1)\n",
    "            df_imputed = imputer.fit(df_filled).transform(df_filled)\n",
    "\n",
    "            # Drop og columns and rename w imputed column\n",
    "            df_result = df_imputed.drop(column).withColumnRenamed(f\"{column}_imputed\", column)\n",
    "\n",
    "        else:\n",
    "            # For string columns, fill nulls with \"Unknown\"\n",
    "            df_result = df_result.fillna(\"Unknown\", [column])\n",
    "\n",
    "    return df_result\n",
    "\n",
    "columns_to_impute = [\"player_traits\", \"pace\", \"shooting\", \"passing\", \"dribbling\", \n",
    "                     \"defending\", \"physic\", \"mentality_composure\", 'lw', 'lf', \n",
    "                     'cf', 'rf', 'rw','ls', 'st', 'rs', 'lam', 'cam', 'ram',  \n",
    "                     'lm', 'lcm',  'cm', 'rcm', 'rm', 'lwb', 'ldm', 'cdm', \n",
    "                     'rdm','rwb', 'lb', 'lcb', 'cb', 'rcb', 'rb', 'gk']\n",
    "imputed_df = imputation(no_null_df, columns_to_impute)"
   ]
  },
  {
   "cell_type": "code",
   "execution_count": 17,
   "metadata": {
    "colab": {
     "base_uri": "https://localhost:8080/"
    },
    "id": "j_q9clbmSRq5",
    "outputId": "94e26022-1b77-4b68-ccc7-cbda3f609f09"
   },
   "outputs": [
    {
     "name": "stdout",
     "output_type": "stream",
     "text": [
      "-RECORD 0--------------------------\n",
      " sofifa_id                   | 0   \n",
      " short_name                  | 0   \n",
      " long_name                   | 0   \n",
      " player_positions            | 0   \n",
      " overall                     | 0   \n",
      " potential                   | 0   \n",
      " value_eur                   | 0   \n",
      " wage_eur                    | 0   \n",
      " age                         | 0   \n",
      " height_cm                   | 0   \n",
      " weight_kg                   | 0   \n",
      " club_name                   | 0   \n",
      " league_name                 | 0   \n",
      " league_level                | 0   \n",
      " club_position               | 0   \n",
      " club_joined                 | 0   \n",
      " club_contract_valid_until   | 0   \n",
      " nationality_id              | 0   \n",
      " nationality_name            | 0   \n",
      " preferred_foot              | 0   \n",
      " weak_foot                   | 0   \n",
      " skill_moves                 | 0   \n",
      " international_reputation    | 0   \n",
      " work_rate                   | 0   \n",
      " body_type                   | 0   \n",
      " release_clause_eur          | 0   \n",
      " player_traits               | 0   \n",
      " attacking_crossing          | 0   \n",
      " attacking_finishing         | 0   \n",
      " attacking_heading_accuracy  | 0   \n",
      " attacking_short_passing     | 0   \n",
      " attacking_volleys           | 0   \n",
      " skill_dribbling             | 0   \n",
      " skill_curve                 | 0   \n",
      " skill_fk_accuracy           | 0   \n",
      " skill_long_passing          | 0   \n",
      " skill_ball_control          | 0   \n",
      " movement_acceleration       | 0   \n",
      " movement_sprint_speed       | 0   \n",
      " movement_agility            | 0   \n",
      " movement_reactions          | 0   \n",
      " movement_balance            | 0   \n",
      " power_shot_power            | 0   \n",
      " power_jumping               | 0   \n",
      " power_stamina               | 0   \n",
      " power_strength              | 0   \n",
      " power_long_shots            | 0   \n",
      " mentality_aggression        | 0   \n",
      " mentality_interceptions     | 0   \n",
      " mentality_positioning       | 0   \n",
      " mentality_vision            | 0   \n",
      " mentality_penalties         | 0   \n",
      " defending_marking_awareness | 0   \n",
      " defending_standing_tackle   | 0   \n",
      " defending_sliding_tackle    | 0   \n",
      " goalkeeping_diving          | 0   \n",
      " goalkeeping_handling        | 0   \n",
      " goalkeeping_kicking         | 0   \n",
      " goalkeeping_positioning     | 0   \n",
      " goalkeeping_reflexes        | 0   \n",
      " year                        | 0   \n",
      " unique_id                   | 0   \n",
      " pace                        | 0   \n",
      " shooting                    | 0   \n",
      " passing                     | 0   \n",
      " dribbling                   | 0   \n",
      " defending                   | 0   \n",
      " physic                      | 0   \n",
      " mentality_composure         | 0   \n",
      " lw                          | 0   \n",
      " lf                          | 0   \n",
      " cf                          | 0   \n",
      " rf                          | 0   \n",
      " rw                          | 0   \n",
      " ls                          | 0   \n",
      " st                          | 0   \n",
      " rs                          | 0   \n",
      " lam                         | 0   \n",
      " cam                         | 0   \n",
      " ram                         | 0   \n",
      " lm                          | 0   \n",
      " lcm                         | 0   \n",
      " cm                          | 0   \n",
      " rcm                         | 0   \n",
      " rm                          | 0   \n",
      " lwb                         | 0   \n",
      " ldm                         | 0   \n",
      " cdm                         | 0   \n",
      " rdm                         | 0   \n",
      " rwb                         | 0   \n",
      " lb                          | 0   \n",
      " lcb                         | 0   \n",
      " cb                          | 0   \n",
      " rcb                         | 0   \n",
      " rb                          | 0   \n",
      " gk                          | 0   \n",
      "\n"
     ]
    }
   ],
   "source": [
    "# Checking to make sure there are no more NULL values.\n",
    "null_counts_plays_df = imputed_df.select([\n",
    "    count(when(col(c).isNull(), c)).alias(c) if dict(imputed_df.dtypes)[c] not in ['double', 'float']\n",
    "    else count(when(isnan(c) | col(c).isNull(), c)).alias(c)\n",
    "    for c in imputed_df.columns\n",
    "])\n",
    "\n",
    "null_counts_plays_df.show(truncate=False, vertical=True)"
   ]
  },
  {
   "cell_type": "markdown",
   "metadata": {
    "id": "NjB3T1mfSeUS"
   },
   "source": [
    "We have officially cleaned our data."
   ]
  },
  {
   "cell_type": "markdown",
   "metadata": {
    "id": "a14AxmhTS-CL"
   },
   "source": [
    "#### Section C"
   ]
  },
  {
   "cell_type": "code",
   "execution_count": 18,
   "metadata": {
    "colab": {
     "base_uri": "https://localhost:8080/",
     "height": 433
    },
    "id": "vVH6Sj5N54Yd",
    "outputId": "45a10064-27a1-433f-9166-0c94e46708ce"
   },
   "outputs": [
    {
     "data": {
      "image/png": "[encoded data removed]",
      "text/plain": [
       "<Figure size 640x480 with 1 Axes>"
      ]
     },
     "metadata": {},
     "output_type": "display_data"
    }
   ],
   "source": [
    "# Checking to if we have any outliers in our dataframe.\n",
    "import matplotlib.pyplot as plt\n",
    "\n",
    "numeric_features = [feature[0] for feature in imputed_df.dtypes if feature[1] in ('int','double')]\n",
    "\n",
    "spotted_data = imputed_df[numeric_features[36:38]].toPandas()\n",
    "figure_subset = plt.boxplot(spotted_data)"
   ]
  },
  {
   "cell_type": "markdown",
   "metadata": {
    "id": "XwmfpAhu6JpR"
   },
   "source": [
    "There are no outliers in the dataset. Lets check for correlation"
   ]
  },
  {
   "cell_type": "code",
   "execution_count": 19,
   "metadata": {
    "colab": {
     "base_uri": "https://localhost:8080/"
    },
    "id": "JDfJmQ3l6xUx",
    "outputId": "39517af2-395c-4f7e-8724-f48b7a002b2f"
   },
   "outputs": [
    {
     "name": "stdout",
     "output_type": "stream",
     "text": [
      "           sofifa_id   overall  potential  value_eur  wage_eur       age  \\\n",
      "sofifa_id   1.000000 -0.450225   0.008633  -0.120987 -0.235875 -0.714167   \n",
      "overall    -0.450225  1.000000   0.659771   0.583538  0.591105  0.471753   \n",
      "potential   0.008633  0.659771   1.000000   0.554075  0.500520 -0.233847   \n",
      "value_eur  -0.120987  0.583538   0.554075   1.000000  0.818386  0.062012   \n",
      "wage_eur   -0.235875  0.591105   0.500520   0.818386  1.000000  0.159836   \n",
      "...              ...       ...        ...        ...       ...       ...   \n",
      "lcb        -0.135931  0.393171   0.247796   0.205986  0.224763  0.159313   \n",
      "cb         -0.135931  0.393171   0.247796   0.205986  0.224763  0.159313   \n",
      "rcb        -0.135931  0.393171   0.247796   0.205986  0.224763  0.159313   \n",
      "rb         -0.125199  0.432929   0.285530   0.239198  0.252957  0.149536   \n",
      "gk         -0.130426  0.047711  -0.007256   0.018820  0.014553  0.142892   \n",
      "\n",
      "           height_cm  weight_kg  league_level  club_joined  ...       ldm  \\\n",
      "sofifa_id  -0.094388  -0.198031     -0.046682     0.323945  ... -0.168336   \n",
      "overall     0.042083   0.150621     -0.215151    -0.165375  ...  0.480005   \n",
      "potential  -0.002087  -0.012140     -0.197197    -0.046038  ...  0.308054   \n",
      "value_eur   0.006843   0.038450     -0.136435    -0.083466  ...  0.264735   \n",
      "wage_eur    0.022855   0.065022     -0.140938    -0.154651  ...  0.279132   \n",
      "...              ...        ...           ...          ...  ...       ...   \n",
      "lcb        -0.080435  -0.043566     -0.061552    -0.053245  ...  0.948225   \n",
      "cb         -0.080435  -0.043566     -0.061552    -0.053245  ...  0.948225   \n",
      "rcb        -0.080435  -0.043566     -0.061552    -0.053245  ...  0.948225   \n",
      "rb         -0.252027  -0.200260     -0.069807    -0.037364  ...  0.978458   \n",
      "gk          0.369537   0.352990     -0.033798    -0.070970  ... -0.662690   \n",
      "\n",
      "                cdm       rdm       rwb        lb       lcb        cb  \\\n",
      "sofifa_id -0.168336 -0.168336 -0.122812 -0.125199 -0.135931 -0.135931   \n",
      "overall    0.480005  0.480005  0.454280  0.432929  0.393171  0.393171   \n",
      "potential  0.308054  0.308054  0.310045  0.285530  0.247796  0.247796   \n",
      "value_eur  0.264735  0.264735  0.261947  0.239198  0.205986  0.205986   \n",
      "wage_eur   0.279132  0.279132  0.270063  0.252957  0.224763  0.224763   \n",
      "...             ...       ...       ...       ...       ...       ...   \n",
      "lcb        0.948225  0.948225  0.908580  0.946090  1.000000  1.000000   \n",
      "cb         0.948225  0.948225  0.908580  0.946090  1.000000  1.000000   \n",
      "rcb        0.948225  0.948225  0.908580  0.946090  1.000000  1.000000   \n",
      "rb         0.978458  0.978458  0.987605  1.000000  0.946090  0.946090   \n",
      "gk        -0.662690 -0.662690 -0.727630 -0.705681 -0.617810 -0.617810   \n",
      "\n",
      "                rcb        rb        gk  \n",
      "sofifa_id -0.135931 -0.125199 -0.130426  \n",
      "overall    0.393171  0.432929  0.047711  \n",
      "potential  0.247796  0.285530 -0.007256  \n",
      "value_eur  0.205986  0.239198  0.018820  \n",
      "wage_eur   0.224763  0.252957  0.014553  \n",
      "...             ...       ...       ...  \n",
      "lcb        1.000000  0.946090 -0.617810  \n",
      "cb         1.000000  0.946090 -0.617810  \n",
      "rcb        1.000000  0.946090 -0.617810  \n",
      "rb         0.946090  1.000000 -0.705681  \n",
      "gk        -0.617810 -0.705681  1.000000  \n",
      "\n",
      "[85 rows x 85 columns]\n"
     ]
    }
   ],
   "source": [
    "import pandas as pd\n",
    "\n",
    "# Converting PySpark df to a Pandas df just to see correlation (as shown in lectures 6 & 7)\n",
    "pandas_df = imputed_df.toPandas()\n",
    "\n",
    "numeric_df = pandas_df.select_dtypes(include=['number'])\n",
    "\n",
    "correlation_matrix = numeric_df.corr()\n",
    "print(correlation_matrix)"
   ]
  },
  {
   "cell_type": "code",
   "execution_count": 20,
   "metadata": {
    "id": "IE7E5xb4_BZ1"
   },
   "outputs": [],
   "source": [
    "# Using Spark df now and dropping columns with high correlation\n",
    "df_with_handled_correlations = imputed_df\\\n",
    "                .drop(\"cb\",\"wage_eur\")"
   ]
  },
  {
   "cell_type": "markdown",
   "metadata": {},
   "source": [
    "Here I am organizing the column into their data types, like binary, continuous, etc. Also replacing the original preferred_foot column with its binary encoded replacement.\n",
    "I'll also omit many of the columns in the continuous columns list, in order to prevent making the model overly complex and also because many of the additional attirbutes seem unrelated or too unique to specific positions or players, and are not relevant for all players."
   ]
  },
  {
   "cell_type": "code",
   "execution_count": 21,
   "metadata": {
    "colab": {
     "base_uri": "https://localhost:8080/"
    },
    "id": "FJFPFY0qcEwX",
    "outputId": "62d4610e-3147-478e-9f69-ef6799f0e46d"
   },
   "outputs": [
    {
     "name": "stdout",
     "output_type": "stream",
     "text": [
      "+--------------+----------------------+\n",
      "|preferred_foot|preferred_foot_encoded|\n",
      "+--------------+----------------------+\n",
      "|         Right|                     1|\n",
      "|          Left|                     0|\n",
      "+--------------+----------------------+\n",
      "\n"
     ]
    }
   ],
   "source": [
    "import pyspark\n",
    "from pyspark.sql import SparkSession, SQLContext\n",
    "from pyspark.ml import Pipeline,Transformer\n",
    "from pyspark.ml.feature import Imputer,StandardScaler,StringIndexer,OneHotEncoder, VectorAssembler\n",
    "from pyspark.ml.classification import LogisticRegression\n",
    "from pyspark.ml.tuning import ParamGridBuilder, CrossValidator\n",
    "from pyspark.ml.evaluation import BinaryClassificationEvaluator\n",
    "from pyspark.sql.functions import *\n",
    "from pyspark.sql.types import *\n",
    "import numpy as np\n",
    "\n",
    "binary_cols = ['preferred_foot']\n",
    "continuous_cols = ['year', 'potential', 'value_eur', 'age', 'height_cm', 'weight_kg', 'league_level', 'skill_moves', 'international_reputation', 'pace', 'shooting', 'passing', 'dribbling', 'defending', 'physic']\n",
    "                #    'attacking_crossing', 'attacking_finishing', 'attacking_heading_accuracy', 'attacking_short_passing', 'attacking_volleys', 'skill_dribbling', 'skill_curve', 'skill_fk_accuracy', 'skill_long_passing', 'skill_ball_control', 'movement_acceleration', 'movement_sprint_speed', 'movement_agility', 'movement_reactions', 'movement_balance', 'power_shot_power', 'power_jumping', 'power_stamina', 'power_strength', 'power_long_shots', 'mentality_aggression', 'mentality_interceptions', 'mentality_positioning', 'mentality_vision', 'mentality_penalties', 'mentality_composure', 'defending_marking_awareness', 'defending_standing_tackle', 'defending_sliding_tackle', 'goalkeeping_diving', 'goalkeeping_handling', 'goalkeeping_kicking', 'goalkeeping_positioning', 'goalkeeping_reflexes', 'ls', 'st', 'rs', 'lw', 'lf', 'cf', 'rf', 'rw', 'lam', 'cam', 'ram', 'lm', 'lcm', 'cm', 'rcm', 'rm', 'lwb', 'ldm', 'cdm', 'rdm', 'rwb', 'rwb', 'rwb', 'rwb', 'lb', 'lcb', 'rcb', 'rb', 'gk']\n",
    "nominal_cols = ['short_name', 'long_name', 'player_positions', 'league_name', 'club_name', 'club_position', 'nationality_name', 'weak_foot', 'work_rate', 'body_type', 'player_traits']\n",
    "ordinal_cols = ['club_position', 'work_rate', 'body_type']\n",
    "cols_to_drop = ['club_joined', 'club_contract_valid_until', 'nationality_id', 'release_clause_eur',]\n",
    "\n",
    "# Handling binary variables\n",
    "df_with_handled_binary = (df_with_handled_correlations\n",
    "    .withColumn(\"preferred_foot_encoded\",\n",
    "                F.when(F.lower(df_with_handled_correlations[\"preferred_foot\"]) == \"right\", 1)\n",
    "                 .when(F.lower(df_with_handled_correlations[\"preferred_foot\"]) == \"left\", 0)\n",
    "                 .otherwise(None)))  # Handle unexpected values if needed\n",
    "\n",
    "df_with_handled_binary.select(\"preferred_foot\", \"preferred_foot_encoded\").distinct().show()\n"
   ]
  },
  {
   "cell_type": "markdown",
   "metadata": {},
   "source": [
    "#### Section D"
   ]
  },
  {
   "cell_type": "code",
   "execution_count": 22,
   "metadata": {
    "id": "pbDCP3r5cI2L"
   },
   "outputs": [],
   "source": [
    "import pyspark\n",
    "from pyspark.sql import SparkSession\n",
    "from pyspark.ml import Pipeline, Transformer\n",
    "from pyspark.ml.feature import StringIndexer, OneHotEncoder, VectorAssembler, StandardScaler\n",
    "from pyspark.sql.functions import col, udf\n",
    "from pyspark.sql.types import DoubleType\n",
    "\n",
    "\n",
    "# Define your columns\n",
    "binary_cols = ['preferred_foot_encoded']\n",
    "ordinal_cols = ['club_position', 'work_rate', 'body_type']\n",
    "nominal_cols = ['short_name', 'long_name', \n",
    "                'player_positions', 'league_name', \n",
    "                'club_name', 'nationality_name', 'weak_foot', 'player_traits']\n",
    "\n",
    "class FeatureTypeCaster(Transformer):  # This transformer will cast the columns as appropriate types\n",
    "    def __init__(self):\n",
    "        super().__init__()\n",
    "\n",
    "    def _transform(self, dataset):\n",
    "        output_df = dataset\n",
    "        for col_name in binary_cols:\n",
    "            output_df = output_df.withColumn(col_name, col(col_name).cast(IntegerType()))\n",
    "        for col_name in ordinal_cols:\n",
    "            output_df = output_df.withColumn(col_name, col(col_name).cast(\"string\"))\n",
    "        return output_df\n",
    "\n",
    "class ColumnDropper(Transformer):  # This transformer drops unnecessary columns\n",
    "    def __init__(self, columns_to_drop=None):\n",
    "        super().__init__()\n",
    "        self.columns_to_drop = columns_to_drop\n",
    "\n",
    "    def _transform(self, dataset):\n",
    "        return dataset.drop(*self.columns_to_drop)\n",
    "\n",
    "class OutcomeCreater(Transformer): # this defines a transformer that creates the outcome column\n",
    "    def __init__(self):\n",
    "        super().__init__()\n",
    "\n",
    "    def _transform(self, dataset):\n",
    "        output_df = dataset.withColumn('outcome', col('overall').cast(DoubleType()))\n",
    "        return output_df\n",
    "\n",
    "\n",
    "def get_preprocess_pipeline():\n",
    "    # Stage where columns are casted as appropriate types\n",
    "    stage_typecaster = FeatureTypeCaster()\n",
    "\n",
    "    # Stage where ordinal columns are transformed to index columns using StringIndexer\n",
    "    ordinal_id_cols = [x + \"_index\" for x in ordinal_cols]\n",
    "    ordinal_onehot_cols = [x + \"_encoded\" for x in ordinal_cols]\n",
    "\n",
    "    stage_ordinal_indexer = StringIndexer(inputCols=ordinal_cols, outputCols=ordinal_id_cols)\n",
    "\n",
    "    # Stage where the index columns are further transformed using OneHotEncoder\n",
    "    stage_ordinal_onehot_encoder = OneHotEncoder(inputCols=ordinal_id_cols, outputCols=ordinal_onehot_cols)\n",
    "\n",
    "    # Combine all OHE columns for vector assembly\n",
    "    feature_cols = (ordinal_onehot_cols + \n",
    "                    binary_cols +\n",
    "                    continuous_cols)     \n",
    "    stage_vector_assembler = VectorAssembler(inputCols=feature_cols, outputCol=\"vectorized_features\")\n",
    "\n",
    "    # Stage where we scale the columns\n",
    "    stage_scaler = StandardScaler(inputCol='vectorized_features', outputCol='features')\n",
    "\n",
    "    # Stage for creating the outcome column vector representing the predicted overall value\n",
    "    stage_outcome = OutcomeCreater()\n",
    "    outcome_assembler = VectorAssembler(inputCols=['outcome'], outputCol='outcome_vector')\n",
    "\n",
    "    # Removing all unnecessary columns, keeping only 'features'\n",
    "    stage_column_dropper = ColumnDropper(columns_to_drop=nominal_cols + \n",
    "                                          ordinal_cols + ordinal_id_cols +\n",
    "                                          ordinal_onehot_cols + binary_cols + \n",
    "                                          ['vectorized_features'] + continuous_cols\n",
    "                                          + cols_to_drop) \n",
    "\n",
    "    # Connect the stages into a pipeline\n",
    "    pipeline = Pipeline(stages=[stage_typecaster,\n",
    "                                 stage_ordinal_indexer,\n",
    "                                 stage_ordinal_onehot_encoder,\n",
    "                                 stage_vector_assembler,\n",
    "                                 stage_scaler,\n",
    "                                 stage_outcome,\n",
    "                                 outcome_assembler,\n",
    "                                 stage_column_dropper])\n",
    "    return pipeline\n"
   ]
  },
  {
   "cell_type": "markdown",
   "metadata": {},
   "source": [
    "### Here we split our overall dataset into two distinct partitions: the training set which is 80% of the dataset, and the test dataset which is the remaining 20%. The dataset was split randomly"
   ]
  },
  {
   "cell_type": "code",
   "execution_count": 23,
   "metadata": {
    "colab": {
     "base_uri": "https://localhost:8080/"
    },
    "id": "u7S_NjCUiY2A",
    "outputId": "cad011e1-daed-4af4-d51d-9bcd422a0518"
   },
   "outputs": [
    {
     "name": "stdout",
     "output_type": "stream",
     "text": [
      "Train data count: 69108\n",
      "Test data count: 17004\n"
     ]
    }
   ],
   "source": [
    "from pyspark.sql import SparkSession\n",
    "from pyspark.ml import feature\n",
    "from pyspark.ml.feature import VectorAssembler\n",
    "from pyspark.sql.functions import col\n",
    "\n",
    "# Splitting data\n",
    "fifa_train, fifa_test = df_with_handled_binary.randomSplit([0.8, 0.2], seed=42)\n",
    "\n",
    "print(\"Train data count:\", fifa_train.count())\n",
    "print(\"Test data count:\", fifa_test.count())\n"
   ]
  },
  {
   "cell_type": "code",
   "execution_count": 24,
   "metadata": {},
   "outputs": [
    {
     "name": "stdout",
     "output_type": "stream",
     "text": [
      "DataFrame[sofifa_id: int, short_name: string, long_name: string, player_positions: string, overall: int, potential: int, value_eur: double, age: int, height_cm: int, weight_kg: int, club_name: string, league_name: string, league_level: int, club_position: string, club_joined: bigint, club_contract_valid_until: int, nationality_id: int, nationality_name: string, preferred_foot: string, weak_foot: int, skill_moves: int, international_reputation: int, work_rate: string, body_type: string, release_clause_eur: int, player_traits: string, attacking_crossing: int, attacking_finishing: int, attacking_heading_accuracy: int, attacking_short_passing: int, attacking_volleys: int, skill_dribbling: int, skill_curve: int, skill_fk_accuracy: int, skill_long_passing: int, skill_ball_control: int, movement_acceleration: int, movement_sprint_speed: int, movement_agility: int, movement_reactions: int, movement_balance: int, power_shot_power: int, power_jumping: int, power_stamina: int, power_strength: int, power_long_shots: int, mentality_aggression: int, mentality_interceptions: int, mentality_positioning: int, mentality_vision: int, mentality_penalties: int, defending_marking_awareness: int, defending_standing_tackle: int, defending_sliding_tackle: int, goalkeeping_diving: int, goalkeeping_handling: int, goalkeeping_kicking: int, goalkeeping_positioning: int, goalkeeping_reflexes: int, year: int, unique_id: bigint, pace: int, shooting: int, passing: int, dribbling: int, defending: int, physic: int, mentality_composure: int, lw: int, lf: int, cf: int, rf: int, rw: int, ls: int, st: int, rs: int, lam: int, cam: int, ram: int, lm: int, lcm: int, cm: int, rcm: int, rm: int, lwb: int, ldm: int, cdm: int, rdm: int, rwb: int, lb: int, lcb: int, rcb: int, rb: int, gk: int, preferred_foot_encoded: int]\n"
     ]
    }
   ],
   "source": [
    "print(df_with_handled_binary)"
   ]
  },
  {
   "cell_type": "code",
   "execution_count": 25,
   "metadata": {
    "colab": {
     "base_uri": "https://localhost:8080/",
     "height": 507
    },
    "id": "Duid8lmtgA9M",
    "outputId": "d465ab31-d5e9-4eac-cc10-9852399ef811"
   },
   "outputs": [],
   "source": [
    "preprocess_pipeline = get_preprocess_pipeline()\n",
    "preprocess_pipeline_model = preprocess_pipeline.fit(fifa_train)\n",
    "\n",
    "fifa_df = preprocess_pipeline_model.transform(fifa_train)\n",
    "fifa_df_test = preprocess_pipeline_model.transform(fifa_test)"
   ]
  },
  {
   "cell_type": "markdown",
   "metadata": {
    "id": "4N-pUUiscZSk"
   },
   "source": [
    "## Part 4\n"
   ]
  },
  {
   "cell_type": "markdown",
   "metadata": {},
   "source": [
    "Spark ML Model: For our first spark ML model, we will use Linear Regression - because we are trying to predict the overall value of the players based on their attributes, we felt that using linear regression would be a good fit. We will calculate the accuracy of the model based on the average percent difference between the predictions and the actual overall value of each player"
   ]
  },
  {
   "cell_type": "code",
   "execution_count": null,
   "metadata": {},
   "outputs": [
    {
     "name": "stdout",
     "output_type": "stream",
     "text": [
      "Train Accuracy: 97.45%\n",
      "Test Accuracy: 97.44%\n"
     ]
    }
   ],
   "source": [
    "# Linear Regression Model\n",
    "\n",
    "from pyspark.ml.regression import LinearRegression\n",
    "\n",
    "lr = LinearRegression(featuresCol = 'features', labelCol = 'outcome')\n",
    "\n",
    "lrModel = lr.fit(fifa_df) \n",
    "\n",
    "lr_predictions = lrModel.transform(fifa_df_test)\n",
    "\n",
    "# Printing accuracy\n",
    "\n",
    "lr_predictions_train = lrModel.transform(fifa_df)# predictions using the training dataset\n",
    "\n",
    "# Compute the percentage difference between 'overall' and 'prediction'\n",
    "lr_predictions_train = lr_predictions_train.withColumn(\n",
    "    \"percent_difference\", \n",
    "    abs(col(\"overall\") - col(\"prediction\")) / col(\"overall\")\n",
    ")\n",
    "\n",
    "# Calculate the average percentage difference (accuracy metric)\n",
    "lr_accuracy_train = lr_predictions_train.select(mean(\"percent_difference\")).first()[0]\n",
    "print(f\"Train Accuracy: {np.round((1 - lr_accuracy_train) * 100, 2)}%\")\n",
    "\n",
    "lr_predictions = lrModel.transform(fifa_df_test)\n",
    "\n",
    "lr_predictions = lr_predictions.withColumn(\n",
    "    \"percent_difference\", \n",
    "    abs(col(\"overall\") - col(\"prediction\")) / col(\"overall\")\n",
    ")\n",
    "\n",
    "# Calculate the average percentage difference (accuracy metric)\n",
    "lr_accuracy_test = lr_predictions.select(mean(\"percent_difference\")).first()[0]\n",
    "print(f\"Test Accuracy: {np.round((1 - lr_accuracy_test) * 100, 2)}%\")\n"
   ]
  },
  {
   "cell_type": "code",
   "execution_count": 27,
   "metadata": {},
   "outputs": [
    {
     "name": "stdout",
     "output_type": "stream",
     "text": [
      "Train MSE: 4.4824024152610775\n",
      "Test MSE: 4.515320964548305\n"
     ]
    }
   ],
   "source": [
    "from pyspark.ml.evaluation import RegressionEvaluator\n",
    "from pyspark.sql.functions import col, abs, mean\n",
    "\n",
    "# Initialize the Linear Regression model\n",
    "lr = LinearRegression(featuresCol='features', labelCol='outcome')\n",
    "\n",
    "# Fit the model on the training dataset\n",
    "lrModel = lr.fit(fifa_df)\n",
    "\n",
    "# Make predictions on the training dataset\n",
    "lr_predictions_train = lrModel.transform(fifa_df)\n",
    "\n",
    "# Make predictions on the test dataset\n",
    "lr_predictions_test = lrModel.transform(fifa_df_test)\n",
    "\n",
    "# Initialize the evaluator with MSE as the metric\n",
    "evaluator = RegressionEvaluator(labelCol=\"outcome\", predictionCol=\"prediction\", metricName=\"mse\")\n",
    "\n",
    "# Calculate MSE for training data\n",
    "train_mse = evaluator.evaluate(lr_predictions_train)\n",
    "print(f\"Train MSE: {train_mse}\")\n",
    "\n",
    "# Calculate MSE for test data\n",
    "test_mse = evaluator.evaluate(lr_predictions_test)\n",
    "print(f\"Test MSE: {test_mse}\")\n"
   ]
  },
  {
   "cell_type": "markdown",
   "metadata": {},
   "source": [
    "As we can see, the linear regression model performed very well on both the train and test datasets, with over 90% accuracy, and relatively low train and test MSE. Let's continue and try to apply hyperparameter tuning through cross validation to see if we can achieve even better accuracies. The hyperparameters that I will be tuning are the regularization parameter and the maximum number of iterations of the model. I chose a range of values that I felt would give us a diverse set of models while still solving in a reasonable amount of time"
   ]
  },
  {
   "cell_type": "code",
   "execution_count": 28,
   "metadata": {},
   "outputs": [
    {
     "name": "stdout",
     "output_type": "stream",
     "text": [
      "Train MSE before Cross-Validation:  4.4824024152610775\n",
      "Train MSE after Cross-Validation:  4.485708099367197\n",
      "Test MSE before Cross-Validation:  4.515320964548305\n",
      "Test MSE after Cross-Validation:  4.521656028885142\n"
     ]
    }
   ],
   "source": [
    "# Linear Regression Model \n",
    "from pyspark.ml.regression import LinearRegression\n",
    "from pyspark.ml.evaluation import RegressionEvaluator\n",
    "\n",
    "lr = LinearRegression(featuresCol = 'features', labelCol = 'outcome')\n",
    "\n",
    "# Create ParamGrid for Cross Validation\n",
    "lr_paramGrid = (ParamGridBuilder() \n",
    "                .addGrid(lr.regParam, [0.01, 0.5, 1.0]) \n",
    "                .addGrid(lr.maxIter, [1, 5, 10]) \n",
    "                .build()) \n",
    "\n",
    "lr_model = lr.fit(fifa_df)\n",
    "lr_predictions_train = lr_model.transform(fifa_df)\n",
    "lr_predictions_test = lr_model.transform(fifa_df_test)\n",
    "\n",
    "# Evaluatation \n",
    "evaluator = RegressionEvaluator(labelCol=\"outcome\", predictionCol=\"prediction\", metricName=\"mse\") \n",
    "\n",
    "# Create cross-validation tuning \n",
    "lr_cv = CrossValidator(estimator=lr, estimatorParamMaps=lr_paramGrid, evaluator=evaluator, numFolds=5) \n",
    "lr_cv_model = lr_cv.fit(fifa_df) \n",
    "lr_cv_predictions_train = lr_cv_model.transform(fifa_df) \n",
    "MSE_train = evaluator.evaluate(lr_cv_predictions_train) \n",
    "lr_cv_predictions_test = lr_cv_model.transform(fifa_df_test)\n",
    "MSE_test = evaluator.evaluate(lr_cv_predictions_test)\n",
    "\n",
    "print(\"Train MSE before Cross-Validation: \", evaluator.evaluate(lr_predictions_train))\n",
    "print(\"Train MSE after Cross-Validation: \", MSE_train)\n",
    "print(\"Test MSE before Cross-Validation: \", evaluator.evaluate(lr_predictions_test))\n",
    "print(\"Test MSE after Cross-Validation: \", MSE_test)\n"
   ]
  },
  {
   "cell_type": "code",
   "execution_count": 29,
   "metadata": {},
   "outputs": [
    {
     "name": "stdout",
     "output_type": "stream",
     "text": [
      "Best model parameters:\n",
      " - regParam: 0.01\n",
      " - maxIter: 1\n",
      "Test MSE for the best model: 4.521656028885142\n"
     ]
    }
   ],
   "source": [
    "# Retrieve the best model from cross-validation\n",
    "best_lr_model = lr_cv_model.bestModel\n",
    "\n",
    "# Use the best model to make predictions on test data\n",
    "best_model_predictions_test = best_lr_model.transform(fifa_df_test)\n",
    "best_MSE_test = evaluator.evaluate(best_model_predictions_test)\n",
    "\n",
    "# Print out the parameters of the best model\n",
    "print(\"Best model parameters:\")\n",
    "print(\" - regParam:\", best_lr_model._java_obj.getRegParam())\n",
    "print(\" - maxIter:\", best_lr_model._java_obj.getMaxIter())\n",
    "\n",
    "# Display MSE for the best model on test data\n",
    "print(\"Test MSE for the best model:\", best_MSE_test)\n"
   ]
  },
  {
   "cell_type": "markdown",
   "metadata": {},
   "source": [
    "As we can see, our cross validation models did not perform much better than our original model configuration, although the MSE is still relatively low and we have already achieved a high accuracy on the train and test datasets. For that reason we will continue with our original linear regression model as our best model."
   ]
  },
  {
   "cell_type": "code",
   "execution_count": 30,
   "metadata": {},
   "outputs": [
    {
     "name": "stdout",
     "output_type": "stream",
     "text": [
      "+-------+-----------------+-------+\n",
      "|outcome|       prediction|overall|\n",
      "+-------+-----------------+-------+\n",
      "|   65.0|66.59081270978899|     65|\n",
      "|   75.0|73.98448043278859|     75|\n",
      "|   77.0|76.69934308077697|     77|\n",
      "|   58.0|64.83158373899082|     58|\n",
      "|   77.0|78.36905957563087|     77|\n",
      "|   83.0| 81.2038287153253|     83|\n",
      "|   70.0|73.97009910764683|     70|\n",
      "|   88.0|90.82842730677964|     88|\n",
      "|   69.0|73.15518467004307|     69|\n",
      "|   62.0|65.00196451713902|     62|\n",
      "|   63.0|69.67677602529173|     63|\n",
      "|   70.0|75.42394768895753|     70|\n",
      "|   83.0|85.10325534484738|     83|\n",
      "|   69.0| 74.3496571428224|     69|\n",
      "|   80.0|80.13765779040665|     80|\n",
      "|   59.0|62.54480724010776|     59|\n",
      "|   64.0|66.97017948554668|     64|\n",
      "|   64.0|68.18576778806371|     64|\n",
      "|   60.0|66.04762579861233|     60|\n",
      "|   68.0|70.31995174866734|     68|\n",
      "+-------+-----------------+-------+\n",
      "only showing top 20 rows\n",
      "\n"
     ]
    }
   ],
   "source": [
    "lr_predictions.select('outcome','prediction','overall').show()"
   ]
  },
  {
   "cell_type": "markdown",
   "metadata": {},
   "source": [
    "#### Section E"
   ]
  },
  {
   "cell_type": "code",
   "execution_count": 31,
   "metadata": {},
   "outputs": [],
   "source": [
    "# Random Forest Regressor Model\n",
    "\n",
    "from pyspark.ml.regression import RandomForestRegressor\n",
    "\n",
    "rfg = RandomForestRegressor(featuresCol='features', labelCol='overall', numTrees=100)\n",
    "\n",
    "rfModel = rfg.fit(fifa_df)\n",
    "\n",
    "rf_predictions = rfModel.transform(fifa_df_test)"
   ]
  },
  {
   "cell_type": "code",
   "execution_count": 46,
   "metadata": {},
   "outputs": [
    {
     "name": "stdout",
     "output_type": "stream",
     "text": [
      "Train Accuracy: 97.97%\n",
      "Test Accuracy: 97.99%\n",
      "Test MSE for the best model: 3.104730448971209\n"
     ]
    }
   ],
   "source": [
    "# Printing accuracy\n",
    "\n",
    "rf_predictions_train = rfModel.transform(fifa_df)# predictions using the training dataset\n",
    "\n",
    "# Compute the percentage difference between 'overall' and 'prediction'\n",
    "rf_predictions_train = rf_predictions_train.withColumn(\n",
    "    \"percent_difference\", \n",
    "    abs(col(\"overall\") - col(\"prediction\")) / col(\"overall\")\n",
    ")\n",
    "\n",
    "# Calculate the average percentage difference (accuracy metric)\n",
    "rf_accuracy_train = rf_predictions_train.select(mean(\"percent_difference\")).first()[0]\n",
    "print(f\"Train Accuracy: {np.round((1 - rf_accuracy_train) * 100, 2)}%\")\n",
    "\n",
    "rf_predictions = rf_predictions.withColumn(\n",
    "    \"percent_difference\", \n",
    "    abs(col(\"overall\") - col(\"prediction\")) / col(\"overall\")\n",
    ")\n",
    "\n",
    "# Calculate the average percentage difference (accuracy metric)\n",
    "rf_accuracy_test = rf_predictions.select(mean(\"percent_difference\")).first()[0]\n",
    "print(f\"Test Accuracy: {np.round((1 - rf_accuracy_test) * 100, 2)}%\")\n",
    "\n",
    "print(\"Test MSE for the best model:\", evaluator.evaluate(rf_predictions))\n"
   ]
  },
  {
   "cell_type": "code",
   "execution_count": 33,
   "metadata": {},
   "outputs": [
    {
     "name": "stdout",
     "output_type": "stream",
     "text": [
      "Train Accuracy after Cross-Validation: 99.09%\n",
      "Test Accuracy after Cross-Validation: 99.06%\n",
      "Best numTrees: 15\n",
      "Best maxDepth: 10\n"
     ]
    }
   ],
   "source": [
    "from pyspark.ml.regression import RandomForestRegressor\n",
    "from pyspark.ml.evaluation import RegressionEvaluator\n",
    "from pyspark.ml.tuning import CrossValidator, ParamGridBuilder\n",
    "from pyspark.sql.functions import abs, col, mean\n",
    "import numpy as np\n",
    "\n",
    "# Define Random Forest model\n",
    "rf = RandomForestRegressor(featuresCol='features', labelCol='outcome')\n",
    "\n",
    "# Define hyperparameter grid for cross-validation\n",
    "paramGrid = (ParamGridBuilder()\n",
    "             .addGrid(rf.numTrees, [5, 10, 15])         # Test different numbers of trees\n",
    "             .addGrid(rf.maxDepth, [3, 5, 10])           # Test different max depth values\n",
    "             .build())\n",
    "\n",
    "# Define evaluator for cross-validation (using MSE as metric)\n",
    "evaluator = RegressionEvaluator(labelCol=\"outcome\", predictionCol=\"prediction\", metricName=\"mse\")\n",
    "\n",
    "# Set up cross-validation\n",
    "cv = CrossValidator(estimator=rf, estimatorParamMaps=paramGrid, evaluator=evaluator, numFolds=5)\n",
    "\n",
    "# Fit cross-validation model\n",
    "cvModel = cv.fit(fifa_df)\n",
    "\n",
    "# Get the best model from cross-validation\n",
    "bestModel = cvModel.bestModel\n",
    "\n",
    "# Evaluate on the training dataset\n",
    "rf_predictions_train = bestModel.transform(fifa_df)\n",
    "\n",
    "# Compute percentage difference for training accuracy\n",
    "rf_predictions_train = rf_predictions_train.withColumn(\n",
    "    \"percent_difference\",\n",
    "    abs(col(\"overall\") - col(\"prediction\")) / col(\"overall\")\n",
    ")\n",
    "\n",
    "# Calculate training accuracy\n",
    "rf_accuracy_train = rf_predictions_train.select(mean(\"percent_difference\")).first()[0]\n",
    "print(f\"Train Accuracy after Cross-Validation: {np.round((1 - rf_accuracy_train) * 100, 2)}%\")\n",
    "\n",
    "# Evaluate on the test dataset\n",
    "rf_predictions_test = bestModel.transform(fifa_df_test)\n",
    "\n",
    "# Compute percentage difference for test accuracy\n",
    "rf_predictions_test = rf_predictions_test.withColumn(\n",
    "    \"percent_difference\",\n",
    "    abs(col(\"overall\") - col(\"prediction\")) / col(\"overall\")\n",
    ")\n",
    "\n",
    "# Calculate test accuracy\n",
    "rf_accuracy_test = rf_predictions_test.select(mean(\"percent_difference\")).first()[0]\n",
    "print(f\"Test Accuracy after Cross-Validation: {np.round((1 - rf_accuracy_test) * 100, 2)}%\")\n",
    "\n",
    "# Print the best hyperparameters\n",
    "print(f\"Best numTrees: {bestModel.getNumTrees}\")\n",
    "print(f\"Best maxDepth: {bestModel.getOrDefault('maxDepth')}\")\n"
   ]
  },
  {
   "cell_type": "code",
   "execution_count": 45,
   "metadata": {},
   "outputs": [
    {
     "name": "stdout",
     "output_type": "stream",
     "text": [
      "Test MSE for the best model: 0.6637530273408097\n"
     ]
    }
   ],
   "source": [
    "print(\"Test MSE for the best model:\", evaluator.evaluate(rf_predictions_test))"
   ]
  },
  {
   "cell_type": "markdown",
   "metadata": {},
   "source": [
    "As you can see, our cross validation hyperparameter tuning allowed us to achieve a higher accuracy with the specific configuration of 15 trees and max depth of 10, giving us an accuracy of 99.06% on the test dataset and an MSE of 0.6637, which is higher than the 97.99% accuracy and 3.10 MSE on test data that we achieved with our original model. Our best model configuration then is the random forest regressor with numTrees = 15 and maxDepth = 10"
   ]
  },
  {
   "cell_type": "markdown",
   "metadata": {},
   "source": [
    "## Part 5"
   ]
  },
  {
   "cell_type": "markdown",
   "metadata": {},
   "source": [
    "Now, I will move on to doing ML modeling using tensorflow specifically using Multi-Layer Perceptrons and Convolutional Neural Networks. I chose to use neural network models because of their versatility and ability to model complex relationships to high degrees of accuracy. I will start with the MultiLayer Perceptron, which I configured to have 4 layers, with decreasing number of neurons in each layer and a ReLU activation. This will be my initial model "
   ]
  },
  {
   "cell_type": "code",
   "execution_count": 34,
   "metadata": {},
   "outputs": [],
   "source": [
    "# Converting PySpark df to Pandas df so we can use it in Tensorflow\n",
    "import numpy as np\n",
    "\n",
    "fifa_train_pd = fifa_df.toPandas()\n",
    "fifa_test_pd = fifa_df_test.toPandas()\n",
    "\n",
    "# Separate features and target in the data\n",
    "X_train = np.array([np.array(row) for row in fifa_train_pd['features']])\n",
    "y_train = fifa_train_pd['overall'].values\n",
    "\n",
    "X_test = np.array([np.array(row) for row in fifa_test_pd['features']])\n",
    "y_test = fifa_test_pd['overall'].values\n"
   ]
  },
  {
   "cell_type": "markdown",
   "metadata": {},
   "source": [
    "#### Section F"
   ]
  },
  {
   "cell_type": "code",
   "execution_count": null,
   "metadata": {
    "id": "GemM5IobcgL8"
   },
   "outputs": [
    {
     "name": "stderr",
     "output_type": "stream",
     "text": [
      "c:\\Users\\ez242\\Documents\\Anaconda\\envs\\14763\\Lib\\site-packages\\keras\\src\\layers\\core\\dense.py:87: UserWarning: Do not pass an `input_shape`/`input_dim` argument to a layer. When using Sequential models, prefer using an `Input(shape)` object as the first layer in the model instead.\n",
      "  super().__init__(activity_regularizer=activity_regularizer, **kwargs)\n"
     ]
    },
    {
     "name": "stdout",
     "output_type": "stream",
     "text": [
      "Epoch 1/50\n",
      "\u001b[1m1728/1728\u001b[0m \u001b[32m━━━━━━━━━━━━━━━━━━━━\u001b[0m\u001b[37m\u001b[0m \u001b[1m5s\u001b[0m 2ms/step - loss: 207.9867 - mae: 7.3074 - val_loss: 17.5100 - val_mae: 3.2175\n",
      "Epoch 2/50\n",
      "\u001b[1m1728/1728\u001b[0m \u001b[32m━━━━━━━━━━━━━━━━━━━━\u001b[0m\u001b[37m\u001b[0m \u001b[1m3s\u001b[0m 2ms/step - loss: 15.5433 - mae: 3.0807 - val_loss: 13.3809 - val_mae: 2.7587\n",
      "Epoch 3/50\n",
      "\u001b[1m1728/1728\u001b[0m \u001b[32m━━━━━━━━━━━━━━━━━━━━\u001b[0m\u001b[37m\u001b[0m \u001b[1m3s\u001b[0m 2ms/step - loss: 9.8528 - mae: 2.4102 - val_loss: 7.9845 - val_mae: 2.1608\n",
      "Epoch 4/50\n",
      "\u001b[1m1728/1728\u001b[0m \u001b[32m━━━━━━━━━━━━━━━━━━━━\u001b[0m\u001b[37m\u001b[0m \u001b[1m3s\u001b[0m 2ms/step - loss: 7.5407 - mae: 2.1200 - val_loss: 5.2966 - val_mae: 1.7289\n",
      "Epoch 5/50\n",
      "\u001b[1m1728/1728\u001b[0m \u001b[32m━━━━━━━━━━━━━━━━━━━━\u001b[0m\u001b[37m\u001b[0m \u001b[1m3s\u001b[0m 2ms/step - loss: 6.5102 - mae: 1.9660 - val_loss: 4.4777 - val_mae: 1.6075\n",
      "Epoch 6/50\n",
      "\u001b[1m1728/1728\u001b[0m \u001b[32m━━━━━━━━━━━━━━━━━━━━\u001b[0m\u001b[37m\u001b[0m \u001b[1m3s\u001b[0m 2ms/step - loss: 5.8521 - mae: 1.8710 - val_loss: 4.2665 - val_mae: 1.5591\n",
      "Epoch 7/50\n",
      "\u001b[1m1728/1728\u001b[0m \u001b[32m━━━━━━━━━━━━━━━━━━━━\u001b[0m\u001b[37m\u001b[0m \u001b[1m4s\u001b[0m 2ms/step - loss: 4.9298 - mae: 1.7202 - val_loss: 5.3951 - val_mae: 1.7770\n",
      "Epoch 8/50\n",
      "\u001b[1m1728/1728\u001b[0m \u001b[32m━━━━━━━━━━━━━━━━━━━━\u001b[0m\u001b[37m\u001b[0m \u001b[1m4s\u001b[0m 2ms/step - loss: 4.5153 - mae: 1.6452 - val_loss: 3.3162 - val_mae: 1.4277\n",
      "Epoch 9/50\n",
      "\u001b[1m1728/1728\u001b[0m \u001b[32m━━━━━━━━━━━━━━━━━━━━\u001b[0m\u001b[37m\u001b[0m \u001b[1m4s\u001b[0m 2ms/step - loss: 4.0304 - mae: 1.5421 - val_loss: 2.7279 - val_mae: 1.2616\n",
      "Epoch 10/50\n",
      "\u001b[1m1728/1728\u001b[0m \u001b[32m━━━━━━━━━━━━━━━━━━━━\u001b[0m\u001b[37m\u001b[0m \u001b[1m4s\u001b[0m 2ms/step - loss: 3.6926 - mae: 1.4743 - val_loss: 2.7443 - val_mae: 1.2908\n",
      "Epoch 11/50\n",
      "\u001b[1m1728/1728\u001b[0m \u001b[32m━━━━━━━━━━━━━━━━━━━━\u001b[0m\u001b[37m\u001b[0m \u001b[1m4s\u001b[0m 2ms/step - loss: 3.7893 - mae: 1.4962 - val_loss: 2.7666 - val_mae: 1.2662\n",
      "Epoch 12/50\n",
      "\u001b[1m1728/1728\u001b[0m \u001b[32m━━━━━━━━━━━━━━━━━━━━\u001b[0m\u001b[37m\u001b[0m \u001b[1m5s\u001b[0m 3ms/step - loss: 3.4067 - mae: 1.4170 - val_loss: 8.2636 - val_mae: 2.4521\n",
      "Epoch 13/50\n",
      "\u001b[1m1728/1728\u001b[0m \u001b[32m━━━━━━━━━━━━━━━━━━━━\u001b[0m\u001b[37m\u001b[0m \u001b[1m6s\u001b[0m 3ms/step - loss: 3.2637 - mae: 1.3771 - val_loss: 3.0113 - val_mae: 1.3152\n",
      "Epoch 14/50\n",
      "\u001b[1m1728/1728\u001b[0m \u001b[32m━━━━━━━━━━━━━━━━━━━━\u001b[0m\u001b[37m\u001b[0m \u001b[1m5s\u001b[0m 3ms/step - loss: 3.1146 - mae: 1.3498 - val_loss: 2.9135 - val_mae: 1.3933\n",
      "Epoch 15/50\n",
      "\u001b[1m1728/1728\u001b[0m \u001b[32m━━━━━━━━━━━━━━━━━━━━\u001b[0m\u001b[37m\u001b[0m \u001b[1m4s\u001b[0m 2ms/step - loss: 3.2407 - mae: 1.3727 - val_loss: 2.3579 - val_mae: 1.1865\n",
      "Epoch 16/50\n",
      "\u001b[1m1728/1728\u001b[0m \u001b[32m━━━━━━━━━━━━━━━━━━━━\u001b[0m\u001b[37m\u001b[0m \u001b[1m3s\u001b[0m 2ms/step - loss: 2.9457 - mae: 1.3066 - val_loss: 2.1620 - val_mae: 1.1248\n",
      "Epoch 17/50\n",
      "\u001b[1m1728/1728\u001b[0m \u001b[32m━━━━━━━━━━━━━━━━━━━━\u001b[0m\u001b[37m\u001b[0m \u001b[1m3s\u001b[0m 2ms/step - loss: 2.9735 - mae: 1.3140 - val_loss: 3.7683 - val_mae: 1.6216\n",
      "Epoch 18/50\n",
      "\u001b[1m1728/1728\u001b[0m \u001b[32m━━━━━━━━━━━━━━━━━━━━\u001b[0m\u001b[37m\u001b[0m \u001b[1m3s\u001b[0m 2ms/step - loss: 2.9118 - mae: 1.3027 - val_loss: 3.3359 - val_mae: 1.4139\n",
      "Epoch 19/50\n",
      "\u001b[1m1728/1728\u001b[0m \u001b[32m━━━━━━━━━━━━━━━━━━━━\u001b[0m\u001b[37m\u001b[0m \u001b[1m3s\u001b[0m 2ms/step - loss: 2.8524 - mae: 1.2876 - val_loss: 2.2202 - val_mae: 1.1395\n",
      "Epoch 20/50\n",
      "\u001b[1m1728/1728\u001b[0m \u001b[32m━━━━━━━━━━━━━━━━━━━━\u001b[0m\u001b[37m\u001b[0m \u001b[1m3s\u001b[0m 2ms/step - loss: 2.6395 - mae: 1.2313 - val_loss: 2.1220 - val_mae: 1.1226\n",
      "Epoch 21/50\n",
      "\u001b[1m1728/1728\u001b[0m \u001b[32m━━━━━━━━━━━━━━━━━━━━\u001b[0m\u001b[37m\u001b[0m \u001b[1m3s\u001b[0m 2ms/step - loss: 2.6131 - mae: 1.2216 - val_loss: 2.0438 - val_mae: 1.1320\n",
      "Epoch 22/50\n",
      "\u001b[1m1728/1728\u001b[0m \u001b[32m━━━━━━━━━━━━━━━━━━━━\u001b[0m\u001b[37m\u001b[0m \u001b[1m3s\u001b[0m 2ms/step - loss: 2.6859 - mae: 1.2443 - val_loss: 1.9279 - val_mae: 1.0808\n",
      "Epoch 23/50\n",
      "\u001b[1m1728/1728\u001b[0m \u001b[32m━━━━━━━━━━━━━━━━━━━━\u001b[0m\u001b[37m\u001b[0m \u001b[1m4s\u001b[0m 2ms/step - loss: 2.6568 - mae: 1.2369 - val_loss: 1.8857 - val_mae: 1.0828\n",
      "Epoch 24/50\n",
      "\u001b[1m1728/1728\u001b[0m \u001b[32m━━━━━━━━━━━━━━━━━━━━\u001b[0m\u001b[37m\u001b[0m \u001b[1m3s\u001b[0m 2ms/step - loss: 2.4845 - mae: 1.1935 - val_loss: 4.4438 - val_mae: 1.7112\n",
      "Epoch 25/50\n",
      "\u001b[1m1728/1728\u001b[0m \u001b[32m━━━━━━━━━━━━━━━━━━━━\u001b[0m\u001b[37m\u001b[0m \u001b[1m3s\u001b[0m 2ms/step - loss: 2.5151 - mae: 1.2013 - val_loss: 3.1925 - val_mae: 1.4814\n",
      "Epoch 26/50\n",
      "\u001b[1m1728/1728\u001b[0m \u001b[32m━━━━━━━━━━━━━━━━━━━━\u001b[0m\u001b[37m\u001b[0m \u001b[1m3s\u001b[0m 2ms/step - loss: 2.5713 - mae: 1.2125 - val_loss: 1.8458 - val_mae: 1.0610\n",
      "Epoch 27/50\n",
      "\u001b[1m1728/1728\u001b[0m \u001b[32m━━━━━━━━━━━━━━━━━━━━\u001b[0m\u001b[37m\u001b[0m \u001b[1m3s\u001b[0m 2ms/step - loss: 2.3194 - mae: 1.1489 - val_loss: 4.9156 - val_mae: 1.8478\n",
      "Epoch 28/50\n",
      "\u001b[1m1728/1728\u001b[0m \u001b[32m━━━━━━━━━━━━━━━━━━━━\u001b[0m\u001b[37m\u001b[0m \u001b[1m3s\u001b[0m 2ms/step - loss: 2.2341 - mae: 1.1279 - val_loss: 2.4462 - val_mae: 1.2319\n",
      "Epoch 29/50\n",
      "\u001b[1m1728/1728\u001b[0m \u001b[32m━━━━━━━━━━━━━━━━━━━━\u001b[0m\u001b[37m\u001b[0m \u001b[1m4s\u001b[0m 2ms/step - loss: 2.2152 - mae: 1.1258 - val_loss: 3.5662 - val_mae: 1.5048\n",
      "Epoch 30/50\n",
      "\u001b[1m1728/1728\u001b[0m \u001b[32m━━━━━━━━━━━━━━━━━━━━\u001b[0m\u001b[37m\u001b[0m \u001b[1m4s\u001b[0m 2ms/step - loss: 2.1318 - mae: 1.1010 - val_loss: 6.3233 - val_mae: 2.0564\n",
      "Epoch 31/50\n",
      "\u001b[1m1728/1728\u001b[0m \u001b[32m━━━━━━━━━━━━━━━━━━━━\u001b[0m\u001b[37m\u001b[0m \u001b[1m4s\u001b[0m 2ms/step - loss: 2.2102 - mae: 1.1278 - val_loss: 1.7253 - val_mae: 1.0181\n",
      "Epoch 32/50\n",
      "\u001b[1m1728/1728\u001b[0m \u001b[32m━━━━━━━━━━━━━━━━━━━━\u001b[0m\u001b[37m\u001b[0m \u001b[1m5s\u001b[0m 3ms/step - loss: 2.1197 - mae: 1.1060 - val_loss: 2.0013 - val_mae: 1.1038\n",
      "Epoch 33/50\n",
      "\u001b[1m1728/1728\u001b[0m \u001b[32m━━━━━━━━━━━━━━━━━━━━\u001b[0m\u001b[37m\u001b[0m \u001b[1m3s\u001b[0m 2ms/step - loss: 1.9805 - mae: 1.0642 - val_loss: 4.1337 - val_mae: 1.6769\n",
      "Epoch 34/50\n",
      "\u001b[1m1728/1728\u001b[0m \u001b[32m━━━━━━━━━━━━━━━━━━━━\u001b[0m\u001b[37m\u001b[0m \u001b[1m4s\u001b[0m 2ms/step - loss: 2.0178 - mae: 1.0764 - val_loss: 2.1425 - val_mae: 1.1716\n",
      "Epoch 35/50\n",
      "\u001b[1m1728/1728\u001b[0m \u001b[32m━━━━━━━━━━━━━━━━━━━━\u001b[0m\u001b[37m\u001b[0m \u001b[1m4s\u001b[0m 2ms/step - loss: 1.9274 - mae: 1.0527 - val_loss: 4.4109 - val_mae: 1.7596\n",
      "Epoch 36/50\n",
      "\u001b[1m1728/1728\u001b[0m \u001b[32m━━━━━━━━━━━━━━━━━━━━\u001b[0m\u001b[37m\u001b[0m \u001b[1m3s\u001b[0m 2ms/step - loss: 1.9285 - mae: 1.0538 - val_loss: 2.9327 - val_mae: 1.3415\n",
      "Epoch 37/50\n",
      "\u001b[1m1728/1728\u001b[0m \u001b[32m━━━━━━━━━━━━━━━━━━━━\u001b[0m\u001b[37m\u001b[0m \u001b[1m4s\u001b[0m 2ms/step - loss: 1.9203 - mae: 1.0484 - val_loss: 1.3132 - val_mae: 0.8901\n",
      "Epoch 38/50\n",
      "\u001b[1m1728/1728\u001b[0m \u001b[32m━━━━━━━━━━━━━━━━━━━━\u001b[0m\u001b[37m\u001b[0m \u001b[1m4s\u001b[0m 2ms/step - loss: 1.8837 - mae: 1.0412 - val_loss: 2.2015 - val_mae: 1.1571\n",
      "Epoch 39/50\n",
      "\u001b[1m1728/1728\u001b[0m \u001b[32m━━━━━━━━━━━━━━━━━━━━\u001b[0m\u001b[37m\u001b[0m \u001b[1m4s\u001b[0m 2ms/step - loss: 1.8283 - mae: 1.0206 - val_loss: 2.0118 - val_mae: 1.1048\n",
      "Epoch 40/50\n",
      "\u001b[1m1728/1728\u001b[0m \u001b[32m━━━━━━━━━━━━━━━━━━━━\u001b[0m\u001b[37m\u001b[0m \u001b[1m4s\u001b[0m 3ms/step - loss: 1.8054 - mae: 1.0162 - val_loss: 1.4833 - val_mae: 0.9499\n",
      "Epoch 41/50\n",
      "\u001b[1m1728/1728\u001b[0m \u001b[32m━━━━━━━━━━━━━━━━━━━━\u001b[0m\u001b[37m\u001b[0m \u001b[1m4s\u001b[0m 3ms/step - loss: 1.8573 - mae: 1.0386 - val_loss: 2.7575 - val_mae: 1.3146\n",
      "Epoch 42/50\n",
      "\u001b[1m1728/1728\u001b[0m \u001b[32m━━━━━━━━━━━━━━━━━━━━\u001b[0m\u001b[37m\u001b[0m \u001b[1m6s\u001b[0m 3ms/step - loss: 1.7371 - mae: 0.9962 - val_loss: 1.5855 - val_mae: 0.9973\n",
      "Epoch 43/50\n",
      "\u001b[1m1728/1728\u001b[0m \u001b[32m━━━━━━━━━━━━━━━━━━━━\u001b[0m\u001b[37m\u001b[0m \u001b[1m4s\u001b[0m 2ms/step - loss: 1.8037 - mae: 1.0219 - val_loss: 1.9545 - val_mae: 1.0891\n",
      "Epoch 44/50\n",
      "\u001b[1m1728/1728\u001b[0m \u001b[32m━━━━━━━━━━━━━━━━━━━━\u001b[0m\u001b[37m\u001b[0m \u001b[1m3s\u001b[0m 2ms/step - loss: 1.8614 - mae: 1.0349 - val_loss: 2.1365 - val_mae: 1.1546\n",
      "Epoch 45/50\n",
      "\u001b[1m1728/1728\u001b[0m \u001b[32m━━━━━━━━━━━━━━━━━━━━\u001b[0m\u001b[37m\u001b[0m \u001b[1m4s\u001b[0m 2ms/step - loss: 1.7303 - mae: 0.9987 - val_loss: 2.7676 - val_mae: 1.3365\n",
      "Epoch 46/50\n",
      "\u001b[1m1728/1728\u001b[0m \u001b[32m━━━━━━━━━━━━━━━━━━━━\u001b[0m\u001b[37m\u001b[0m \u001b[1m4s\u001b[0m 2ms/step - loss: 1.7706 - mae: 1.0076 - val_loss: 1.4628 - val_mae: 0.9462\n",
      "Epoch 47/50\n",
      "\u001b[1m1728/1728\u001b[0m \u001b[32m━━━━━━━━━━━━━━━━━━━━\u001b[0m\u001b[37m\u001b[0m \u001b[1m3s\u001b[0m 2ms/step - loss: 1.9161 - mae: 1.0512 - val_loss: 1.4529 - val_mae: 0.9364\n",
      "Epoch 48/50\n",
      "\u001b[1m1728/1728\u001b[0m \u001b[32m━━━━━━━━━━━━━━━━━━━━\u001b[0m\u001b[37m\u001b[0m \u001b[1m3s\u001b[0m 2ms/step - loss: 1.7489 - mae: 1.0049 - val_loss: 2.0504 - val_mae: 1.1375\n",
      "Epoch 49/50\n",
      "\u001b[1m1728/1728\u001b[0m \u001b[32m━━━━━━━━━━━━━━━━━━━━\u001b[0m\u001b[37m\u001b[0m \u001b[1m3s\u001b[0m 2ms/step - loss: 1.7405 - mae: 0.9983 - val_loss: 3.6509 - val_mae: 1.6100\n",
      "Epoch 50/50\n",
      "\u001b[1m1728/1728\u001b[0m \u001b[32m━━━━━━━━━━━━━━━━━━━━\u001b[0m\u001b[37m\u001b[0m \u001b[1m3s\u001b[0m 2ms/step - loss: 1.7210 - mae: 0.9954 - val_loss: 4.8375 - val_mae: 1.9477\n",
      "\u001b[1m532/532\u001b[0m \u001b[32m━━━━━━━━━━━━━━━━━━━━\u001b[0m\u001b[37m\u001b[0m \u001b[1m1s\u001b[0m 1ms/step - loss: 2.3288 - mae: 1.2620\n",
      "MLP Test MAE:  1.5047905445098877\n"
     ]
    }
   ],
   "source": [
    "# MLP\n",
    "\n",
    "import tensorflow as tf\n",
    "from tensorflow.keras.models import Sequential\n",
    "from tensorflow.keras.layers import Dense\n",
    "\n",
    "mlp_model = Sequential([\n",
    "    Dense(128, activation='relu', input_shape=(X_train.shape[1],)),\n",
    "    Dense(64, activation='relu'),\n",
    "    Dense(32, activation='relu'),\n",
    "    Dense(1)  \n",
    "])\n",
    "\n",
    "mlp_model.compile(optimizer='adam', loss='mse', metrics=['mae'])\n",
    "\n",
    "# TRrain\n",
    "mlp_model.fit(X_train, y_train, epochs=50, batch_size=32, validation_split=0.2)\n",
    "\n",
    "# Mean absolute error to compare\n",
    "mlp_loss, mlp_mae = mlp_model.evaluate(X_test, y_test)\n",
    "print(\"MLP Test MAE: \", mlp_mae)\n"
   ]
  },
  {
   "cell_type": "code",
   "execution_count": 48,
   "metadata": {},
   "outputs": [
    {
     "name": "stdout",
     "output_type": "stream",
     "text": [
      "\u001b[1m532/532\u001b[0m \u001b[32m━━━━━━━━━━━━━━━━━━━━\u001b[0m\u001b[37m\u001b[0m \u001b[1m1s\u001b[0m 2ms/step\n",
      "Test Accuracy: 96.91%\n"
     ]
    }
   ],
   "source": [
    "\n",
    "# Calculate the percentage difference for accuracy on test data\n",
    "y_pred_test = mlp_model.predict(X_test).flatten()  # Flatten to match y_test shape\n",
    "\n",
    "percent_differences = np.abs((y_test - y_pred_test) / y_test)\n",
    "test_accuracy = 1 - np.mean(percent_differences)  # Average accuracy over all test samples\n",
    "print(f\"Test Accuracy: {np.round(test_accuracy * 100, 2)}%\")\n"
   ]
  },
  {
   "cell_type": "markdown",
   "metadata": {},
   "source": [
    "Our initial MLP model performed quite well, with an average MAE Test loss of 1.5, and a test accuracy of 96.91%. Now I will apply hyperparameter tuning through cross validation to see if I can find a better model. The hyperparameters I will be tuning are the size of the layers and number of neurons as well as the learning rate."
   ]
  },
  {
   "cell_type": "code",
   "execution_count": 36,
   "metadata": {},
   "outputs": [
    {
     "name": "stdout",
     "output_type": "stream",
     "text": [
      "Layer configuration: (8, 4, 2), Learning Rate: 0.01 - Average MAE: 5.551881154378255\n",
      "Layer configuration: (8, 4, 2), Learning Rate: 0.1 - Average MAE: 3.027750333150228\n",
      "Layer configuration: (4, 2), Learning Rate: 0.01 - Average MAE: 5.549846490224202\n",
      "Layer configuration: (4, 2), Learning Rate: 0.1 - Average MAE: 4.381831407546997\n",
      "\n",
      "Best configuration:\n",
      "Layers: (8, 4, 2)\n",
      "Learning Rate: 0.1\n",
      "Average MAE for best configuration: 3.027750333150228\n"
     ]
    }
   ],
   "source": [
    "\n",
    "# MLP cross validation hyperparameter tuning\n",
    "# Source: https://medium.com/the-owl/k-fold-cross-validation-in-keras-3ec4a3a00538\n",
    "from sklearn.model_selection import KFold\n",
    "import numpy as np\n",
    "from tensorflow.keras.models import Sequential\n",
    "from tensorflow.keras.layers import Dense\n",
    "from sklearn.model_selection import KFold\n",
    "from tensorflow.keras.optimizers import Adam\n",
    "\n",
    "# Define hyperparameter grids\n",
    "layer_configs = [(8, 4, 2), (4, 2)]\n",
    "learning_rates = [0.01, 0.1]\n",
    "\n",
    "# Dictionary to store the results\n",
    "tuning_results = {}\n",
    "\n",
    "# Cross-validation for each combination of layer config and learning rate\n",
    "for layers in layer_configs:\n",
    "    for lr in learning_rates:\n",
    "        kf = KFold(n_splits=3, shuffle=True, random_state=42)\n",
    "        mae_scores = []\n",
    "\n",
    "        for train_index, val_index in kf.split(X_train):\n",
    "            X_train_fold, X_val_fold = X_train[train_index], X_train[val_index]\n",
    "            y_train_fold, y_val_fold = y_train[train_index], y_train[val_index]\n",
    "\n",
    "            # Define model with current hyperparameters\n",
    "            mlp_model = Sequential()\n",
    "            for units in layers:\n",
    "                mlp_model.add(Dense(units, activation='relu'))\n",
    "            mlp_model.add(Dense(1))  # Output layer\n",
    "            \n",
    "            optimizer = Adam(learning_rate=lr)\n",
    "            mlp_model.compile(optimizer=optimizer, loss='mse', metrics=['mae'])\n",
    "\n",
    "            # Train\n",
    "            mlp_model.fit(X_train_fold, y_train_fold, epochs=20, batch_size=32, validation_data=(X_val_fold, y_val_fold), verbose=0)\n",
    "\n",
    "            # Evaluate on the validation fold\n",
    "            _, mae = mlp_model.evaluate(X_val_fold, y_val_fold, verbose=0)\n",
    "            mae_scores.append(mae)\n",
    "\n",
    "        # Store the average MAE for each combination\n",
    "        avg_mae = np.mean(mae_scores)\n",
    "        tuning_results[(layers, lr)] = avg_mae\n",
    "        print(f\"Layer configuration: {layers}, Learning Rate: {lr} - Average MAE: {avg_mae}\")\n",
    "\n",
    "# Manually find the best configuration based on MAE\n",
    "best_config, best_mae = None, float('inf')\n",
    "\n",
    "for config, mae in tuning_results.items():\n",
    "    if mae < best_mae:\n",
    "        best_config = config\n",
    "        best_mae = mae\n",
    "\n",
    "# Display the best configuration and its MAE\n",
    "print(\"\\nBest configuration:\")\n",
    "print(\"Layers:\", best_config[0])\n",
    "print(\"Learning Rate:\", best_config[1])\n",
    "print(\"Average MAE for best configuration:\", best_mae)\n"
   ]
  },
  {
   "cell_type": "code",
   "execution_count": 50,
   "metadata": {},
   "outputs": [
    {
     "name": "stdout",
     "output_type": "stream",
     "text": [
      "\u001b[1m532/532\u001b[0m \u001b[32m━━━━━━━━━━━━━━━━━━━━\u001b[0m\u001b[37m\u001b[0m \u001b[1m1s\u001b[0m 1ms/step\n",
      "\n",
      "Best Model Results on Test Data:\n",
      "Test MSE: 49.436073\n",
      "Test MAE: 5.564043294960009\n",
      "Test R-squared (Accuracy): -3.6954879760742188e-06\n"
     ]
    }
   ],
   "source": [
    "from tensorflow.keras.metrics import MeanSquaredError\n",
    "from sklearn.metrics import r2_score\n",
    "\n",
    "# Extract best layer configuration and learning rate\n",
    "best_layers, best_lr = best_config\n",
    "\n",
    "# Define and compile the best model\n",
    "best_model = Sequential()\n",
    "for units in best_layers:\n",
    "    best_model.add(Dense(units, activation='relu'))\n",
    "best_model.add(Dense(1))  # Output layer\n",
    "\n",
    "optimizer = Adam(learning_rate=best_lr)\n",
    "best_model.compile(optimizer=optimizer, loss='mse', metrics=['mae'])\n",
    "\n",
    "# Train the best model on the full training set\n",
    "best_model.fit(X_train, y_train, epochs=20, batch_size=32, verbose=0)\n",
    "\n",
    "# Evaluate the model on the test set\n",
    "mse_metric = MeanSquaredError()\n",
    "test_predictions = best_model.predict(X_test)\n",
    "mse_metric.update_state(y_test, test_predictions)\n",
    "test_mse = mse_metric.result().numpy()\n",
    "\n",
    "# Calculate MAE and accuracy\n",
    "test_mae = np.mean(np.abs(test_predictions - y_test))\n",
    "\n",
    "# Calculate R-squared as an accuracy measure\n",
    "test_r2 = r2_score(y_test, test_predictions)\n",
    "\n",
    "print(\"\\nBest Model Results on Test Data:\")\n",
    "print(\"Test MSE:\", test_mse)\n",
    "print(\"Test MAE:\", test_mae)\n",
    "print(\"Test R-squared (Accuracy):\", test_r2)\n"
   ]
  },
  {
   "cell_type": "markdown",
   "metadata": {},
   "source": [
    "Unfortunately the models from our cross-validation did not perform as well as our initial MLP model, with the best MLP model configuration only giving us a MAE of 5.564 on the test dataset, which is much worse than the test MAE of 1.5 from our original model. For that reason we will be using our original MLP model as our best model."
   ]
  },
  {
   "cell_type": "markdown",
   "metadata": {},
   "source": [
    "#### Section G"
   ]
  },
  {
   "cell_type": "markdown",
   "metadata": {},
   "source": [
    "Now, I will move onto our second model in TensorFlow, which will be using a Convolutional Neural Network. I will see if this configuration performs better than my MLP model. I will use 4 hidden layers and ReLU activation, so that I have a relatively deep model. ReLU is also a good choice in general for activation functions, especially in possible nonlinear cases. "
   ]
  },
  {
   "cell_type": "code",
   "execution_count": 38,
   "metadata": {},
   "outputs": [
    {
     "name": "stdout",
     "output_type": "stream",
     "text": [
      "Epoch 1/50\n"
     ]
    },
    {
     "name": "stderr",
     "output_type": "stream",
     "text": [
      "c:\\Users\\ez242\\Documents\\Anaconda\\envs\\14763\\Lib\\site-packages\\keras\\src\\layers\\convolutional\\base_conv.py:107: UserWarning: Do not pass an `input_shape`/`input_dim` argument to a layer. When using Sequential models, prefer using an `Input(shape)` object as the first layer in the model instead.\n",
      "  super().__init__(activity_regularizer=activity_regularizer, **kwargs)\n"
     ]
    },
    {
     "name": "stdout",
     "output_type": "stream",
     "text": [
      "\u001b[1m1728/1728\u001b[0m \u001b[32m━━━━━━━━━━━━━━━━━━━━\u001b[0m\u001b[37m\u001b[0m \u001b[1m11s\u001b[0m 5ms/step - loss: 152.4855 - mae: 7.5591 - val_loss: 53.3495 - val_mae: 5.8318\n",
      "Epoch 2/50\n",
      "\u001b[1m1728/1728\u001b[0m \u001b[32m━━━━━━━━━━━━━━━━━━━━\u001b[0m\u001b[37m\u001b[0m \u001b[1m8s\u001b[0m 4ms/step - loss: 48.8072 - mae: 5.5190 - val_loss: 44.7116 - val_mae: 5.2860\n",
      "Epoch 3/50\n",
      "\u001b[1m1728/1728\u001b[0m \u001b[32m━━━━━━━━━━━━━━━━━━━━\u001b[0m\u001b[37m\u001b[0m \u001b[1m7s\u001b[0m 4ms/step - loss: 46.7970 - mae: 5.4385 - val_loss: 33.1594 - val_mae: 4.6359\n",
      "Epoch 4/50\n",
      "\u001b[1m1728/1728\u001b[0m \u001b[32m━━━━━━━━━━━━━━━━━━━━\u001b[0m\u001b[37m\u001b[0m \u001b[1m7s\u001b[0m 4ms/step - loss: 32.4518 - mae: 4.5669 - val_loss: 16.6399 - val_mae: 3.3137\n",
      "Epoch 5/50\n",
      "\u001b[1m1728/1728\u001b[0m \u001b[32m━━━━━━━━━━━━━━━━━━━━\u001b[0m\u001b[37m\u001b[0m \u001b[1m7s\u001b[0m 4ms/step - loss: 13.7994 - mae: 2.8962 - val_loss: 3.4401 - val_mae: 1.3915\n",
      "Epoch 6/50\n",
      "\u001b[1m1728/1728\u001b[0m \u001b[32m━━━━━━━━━━━━━━━━━━━━\u001b[0m\u001b[37m\u001b[0m \u001b[1m7s\u001b[0m 4ms/step - loss: 4.0046 - mae: 1.5246 - val_loss: 4.0962 - val_mae: 1.5610\n",
      "Epoch 7/50\n",
      "\u001b[1m1728/1728\u001b[0m \u001b[32m━━━━━━━━━━━━━━━━━━━━\u001b[0m\u001b[37m\u001b[0m \u001b[1m11s\u001b[0m 7ms/step - loss: 3.4445 - mae: 1.4204 - val_loss: 2.4046 - val_mae: 1.1942\n",
      "Epoch 8/50\n",
      "\u001b[1m1728/1728\u001b[0m \u001b[32m━━━━━━━━━━━━━━━━━━━━\u001b[0m\u001b[37m\u001b[0m \u001b[1m10s\u001b[0m 6ms/step - loss: 2.9935 - mae: 1.3151 - val_loss: 3.7701 - val_mae: 1.6250\n",
      "Epoch 9/50\n",
      "\u001b[1m1728/1728\u001b[0m \u001b[32m━━━━━━━━━━━━━━━━━━━━\u001b[0m\u001b[37m\u001b[0m \u001b[1m10s\u001b[0m 6ms/step - loss: 3.1546 - mae: 1.3536 - val_loss: 2.8614 - val_mae: 1.2717\n",
      "Epoch 10/50\n",
      "\u001b[1m1728/1728\u001b[0m \u001b[32m━━━━━━━━━━━━━━━━━━━━\u001b[0m\u001b[37m\u001b[0m \u001b[1m9s\u001b[0m 5ms/step - loss: 2.8501 - mae: 1.2840 - val_loss: 2.2723 - val_mae: 1.2105\n",
      "Epoch 11/50\n",
      "\u001b[1m1728/1728\u001b[0m \u001b[32m━━━━━━━━━━━━━━━━━━━━\u001b[0m\u001b[37m\u001b[0m \u001b[1m11s\u001b[0m 6ms/step - loss: 2.9535 - mae: 1.3093 - val_loss: 4.9897 - val_mae: 1.8424\n",
      "Epoch 12/50\n",
      "\u001b[1m1728/1728\u001b[0m \u001b[32m━━━━━━━━━━━━━━━━━━━━\u001b[0m\u001b[37m\u001b[0m \u001b[1m12s\u001b[0m 7ms/step - loss: 2.6818 - mae: 1.2400 - val_loss: 2.3954 - val_mae: 1.1782\n",
      "Epoch 13/50\n",
      "\u001b[1m1728/1728\u001b[0m \u001b[32m━━━━━━━━━━━━━━━━━━━━\u001b[0m\u001b[37m\u001b[0m \u001b[1m14s\u001b[0m 8ms/step - loss: 2.5364 - mae: 1.2009 - val_loss: 1.7894 - val_mae: 1.0146\n",
      "Epoch 14/50\n",
      "\u001b[1m1728/1728\u001b[0m \u001b[32m━━━━━━━━━━━━━━━━━━━━\u001b[0m\u001b[37m\u001b[0m \u001b[1m10s\u001b[0m 6ms/step - loss: 2.9526 - mae: 1.3059 - val_loss: 4.3759 - val_mae: 1.7446\n",
      "Epoch 15/50\n",
      "\u001b[1m1728/1728\u001b[0m \u001b[32m━━━━━━━━━━━━━━━━━━━━\u001b[0m\u001b[37m\u001b[0m \u001b[1m13s\u001b[0m 7ms/step - loss: 2.5231 - mae: 1.2018 - val_loss: 2.8819 - val_mae: 1.3423\n",
      "Epoch 16/50\n",
      "\u001b[1m1728/1728\u001b[0m \u001b[32m━━━━━━━━━━━━━━━━━━━━\u001b[0m\u001b[37m\u001b[0m \u001b[1m14s\u001b[0m 8ms/step - loss: 2.5349 - mae: 1.2118 - val_loss: 1.7162 - val_mae: 1.0054\n",
      "Epoch 17/50\n",
      "\u001b[1m1728/1728\u001b[0m \u001b[32m━━━━━━━━━━━━━━━━━━━━\u001b[0m\u001b[37m\u001b[0m \u001b[1m10s\u001b[0m 6ms/step - loss: 2.4112 - mae: 1.1749 - val_loss: 2.1682 - val_mae: 1.0982\n",
      "Epoch 18/50\n",
      "\u001b[1m1728/1728\u001b[0m \u001b[32m━━━━━━━━━━━━━━━━━━━━\u001b[0m\u001b[37m\u001b[0m \u001b[1m16s\u001b[0m 9ms/step - loss: 2.2814 - mae: 1.1421 - val_loss: 4.3147 - val_mae: 1.7267\n",
      "Epoch 19/50\n",
      "\u001b[1m1728/1728\u001b[0m \u001b[32m━━━━━━━━━━━━━━━━━━━━\u001b[0m\u001b[37m\u001b[0m \u001b[1m8s\u001b[0m 5ms/step - loss: 2.3857 - mae: 1.1711 - val_loss: 2.2353 - val_mae: 1.1215\n",
      "Epoch 20/50\n",
      "\u001b[1m1728/1728\u001b[0m \u001b[32m━━━━━━━━━━━━━━━━━━━━\u001b[0m\u001b[37m\u001b[0m \u001b[1m9s\u001b[0m 5ms/step - loss: 2.3892 - mae: 1.1767 - val_loss: 2.7761 - val_mae: 1.3398\n",
      "Epoch 21/50\n",
      "\u001b[1m1728/1728\u001b[0m \u001b[32m━━━━━━━━━━━━━━━━━━━━\u001b[0m\u001b[37m\u001b[0m \u001b[1m8s\u001b[0m 4ms/step - loss: 2.2423 - mae: 1.1400 - val_loss: 2.7293 - val_mae: 1.3281\n",
      "Epoch 22/50\n",
      "\u001b[1m1728/1728\u001b[0m \u001b[32m━━━━━━━━━━━━━━━━━━━━\u001b[0m\u001b[37m\u001b[0m \u001b[1m10s\u001b[0m 6ms/step - loss: 2.3728 - mae: 1.1733 - val_loss: 4.4133 - val_mae: 1.7597\n",
      "Epoch 23/50\n",
      "\u001b[1m1728/1728\u001b[0m \u001b[32m━━━━━━━━━━━━━━━━━━━━\u001b[0m\u001b[37m\u001b[0m \u001b[1m8s\u001b[0m 4ms/step - loss: 2.1669 - mae: 1.1174 - val_loss: 2.8035 - val_mae: 1.3635\n",
      "Epoch 24/50\n",
      "\u001b[1m1728/1728\u001b[0m \u001b[32m━━━━━━━━━━━━━━━━━━━━\u001b[0m\u001b[37m\u001b[0m \u001b[1m8s\u001b[0m 5ms/step - loss: 2.2640 - mae: 1.1457 - val_loss: 1.6497 - val_mae: 0.9713\n",
      "Epoch 25/50\n",
      "\u001b[1m1728/1728\u001b[0m \u001b[32m━━━━━━━━━━━━━━━━━━━━\u001b[0m\u001b[37m\u001b[0m \u001b[1m7s\u001b[0m 4ms/step - loss: 2.1874 - mae: 1.1280 - val_loss: 1.4666 - val_mae: 0.9251\n",
      "Epoch 26/50\n",
      "\u001b[1m1728/1728\u001b[0m \u001b[32m━━━━━━━━━━━━━━━━━━━━\u001b[0m\u001b[37m\u001b[0m \u001b[1m9s\u001b[0m 5ms/step - loss: 2.0249 - mae: 1.0809 - val_loss: 2.0340 - val_mae: 1.1300\n",
      "Epoch 27/50\n",
      "\u001b[1m1728/1728\u001b[0m \u001b[32m━━━━━━━━━━━━━━━━━━━━\u001b[0m\u001b[37m\u001b[0m \u001b[1m10s\u001b[0m 6ms/step - loss: 2.0222 - mae: 1.0840 - val_loss: 2.7018 - val_mae: 1.3486\n",
      "Epoch 28/50\n",
      "\u001b[1m1728/1728\u001b[0m \u001b[32m━━━━━━━━━━━━━━━━━━━━\u001b[0m\u001b[37m\u001b[0m \u001b[1m12s\u001b[0m 7ms/step - loss: 2.0571 - mae: 1.0947 - val_loss: 2.5725 - val_mae: 1.2894\n",
      "Epoch 29/50\n",
      "\u001b[1m1728/1728\u001b[0m \u001b[32m━━━━━━━━━━━━━━━━━━━━\u001b[0m\u001b[37m\u001b[0m \u001b[1m11s\u001b[0m 7ms/step - loss: 1.9964 - mae: 1.0763 - val_loss: 3.1003 - val_mae: 1.4286\n",
      "Epoch 30/50\n",
      "\u001b[1m1728/1728\u001b[0m \u001b[32m━━━━━━━━━━━━━━━━━━━━\u001b[0m\u001b[37m\u001b[0m \u001b[1m9s\u001b[0m 5ms/step - loss: 1.8131 - mae: 1.0179 - val_loss: 1.5498 - val_mae: 0.9720\n",
      "Epoch 31/50\n",
      "\u001b[1m1728/1728\u001b[0m \u001b[32m━━━━━━━━━━━━━━━━━━━━\u001b[0m\u001b[37m\u001b[0m \u001b[1m10s\u001b[0m 6ms/step - loss: 1.8775 - mae: 1.0415 - val_loss: 4.7590 - val_mae: 1.9284\n",
      "Epoch 32/50\n",
      "\u001b[1m1728/1728\u001b[0m \u001b[32m━━━━━━━━━━━━━━━━━━━━\u001b[0m\u001b[37m\u001b[0m \u001b[1m10s\u001b[0m 6ms/step - loss: 1.8451 - mae: 1.0303 - val_loss: 2.6915 - val_mae: 1.3201\n",
      "Epoch 33/50\n",
      "\u001b[1m1728/1728\u001b[0m \u001b[32m━━━━━━━━━━━━━━━━━━━━\u001b[0m\u001b[37m\u001b[0m \u001b[1m8s\u001b[0m 5ms/step - loss: 1.8567 - mae: 1.0373 - val_loss: 1.2844 - val_mae: 0.8728\n",
      "Epoch 34/50\n",
      "\u001b[1m1728/1728\u001b[0m \u001b[32m━━━━━━━━━━━━━━━━━━━━\u001b[0m\u001b[37m\u001b[0m \u001b[1m10s\u001b[0m 6ms/step - loss: 1.7546 - mae: 1.0049 - val_loss: 2.1171 - val_mae: 1.1340\n",
      "Epoch 35/50\n",
      "\u001b[1m1728/1728\u001b[0m \u001b[32m━━━━━━━━━━━━━━━━━━━━\u001b[0m\u001b[37m\u001b[0m \u001b[1m9s\u001b[0m 5ms/step - loss: 1.8052 - mae: 1.0202 - val_loss: 1.6806 - val_mae: 0.9952\n",
      "Epoch 36/50\n",
      "\u001b[1m1728/1728\u001b[0m \u001b[32m━━━━━━━━━━━━━━━━━━━━\u001b[0m\u001b[37m\u001b[0m \u001b[1m7s\u001b[0m 4ms/step - loss: 1.9165 - mae: 1.0514 - val_loss: 3.1539 - val_mae: 1.4614\n",
      "Epoch 37/50\n",
      "\u001b[1m1728/1728\u001b[0m \u001b[32m━━━━━━━━━━━━━━━━━━━━\u001b[0m\u001b[37m\u001b[0m \u001b[1m9s\u001b[0m 5ms/step - loss: 1.8225 - mae: 1.0227 - val_loss: 1.9224 - val_mae: 1.0703\n",
      "Epoch 38/50\n",
      "\u001b[1m1728/1728\u001b[0m \u001b[32m━━━━━━━━━━━━━━━━━━━━\u001b[0m\u001b[37m\u001b[0m \u001b[1m8s\u001b[0m 4ms/step - loss: 1.7366 - mae: 1.0031 - val_loss: 2.3238 - val_mae: 1.2121\n",
      "Epoch 39/50\n",
      "\u001b[1m1728/1728\u001b[0m \u001b[32m━━━━━━━━━━━━━━━━━━━━\u001b[0m\u001b[37m\u001b[0m \u001b[1m7s\u001b[0m 4ms/step - loss: 1.7843 - mae: 1.0167 - val_loss: 3.0874 - val_mae: 1.4352\n",
      "Epoch 40/50\n",
      "\u001b[1m1728/1728\u001b[0m \u001b[32m━━━━━━━━━━━━━━━━━━━━\u001b[0m\u001b[37m\u001b[0m \u001b[1m7s\u001b[0m 4ms/step - loss: 1.6866 - mae: 0.9843 - val_loss: 1.4108 - val_mae: 0.8999\n",
      "Epoch 41/50\n",
      "\u001b[1m1728/1728\u001b[0m \u001b[32m━━━━━━━━━━━━━━━━━━━━\u001b[0m\u001b[37m\u001b[0m \u001b[1m7s\u001b[0m 4ms/step - loss: 1.7204 - mae: 1.0009 - val_loss: 2.6664 - val_mae: 1.3329\n",
      "Epoch 42/50\n",
      "\u001b[1m1728/1728\u001b[0m \u001b[32m━━━━━━━━━━━━━━━━━━━━\u001b[0m\u001b[37m\u001b[0m \u001b[1m7s\u001b[0m 4ms/step - loss: 1.6908 - mae: 0.9935 - val_loss: 1.5708 - val_mae: 1.0273\n",
      "Epoch 43/50\n",
      "\u001b[1m1728/1728\u001b[0m \u001b[32m━━━━━━━━━━━━━━━━━━━━\u001b[0m\u001b[37m\u001b[0m \u001b[1m7s\u001b[0m 4ms/step - loss: 1.6536 - mae: 0.9806 - val_loss: 2.5713 - val_mae: 1.2975\n",
      "Epoch 44/50\n",
      "\u001b[1m1728/1728\u001b[0m \u001b[32m━━━━━━━━━━━━━━━━━━━━\u001b[0m\u001b[37m\u001b[0m \u001b[1m8s\u001b[0m 5ms/step - loss: 1.6139 - mae: 0.9642 - val_loss: 1.9240 - val_mae: 1.0832\n",
      "Epoch 45/50\n",
      "\u001b[1m1728/1728\u001b[0m \u001b[32m━━━━━━━━━━━━━━━━━━━━\u001b[0m\u001b[37m\u001b[0m \u001b[1m9s\u001b[0m 5ms/step - loss: 1.6520 - mae: 0.9848 - val_loss: 1.9559 - val_mae: 1.0754\n",
      "Epoch 46/50\n",
      "\u001b[1m1728/1728\u001b[0m \u001b[32m━━━━━━━━━━━━━━━━━━━━\u001b[0m\u001b[37m\u001b[0m \u001b[1m9s\u001b[0m 5ms/step - loss: 1.5560 - mae: 0.9448 - val_loss: 3.0359 - val_mae: 1.4262\n",
      "Epoch 47/50\n",
      "\u001b[1m1728/1728\u001b[0m \u001b[32m━━━━━━━━━━━━━━━━━━━━\u001b[0m\u001b[37m\u001b[0m \u001b[1m9s\u001b[0m 5ms/step - loss: 1.6428 - mae: 0.9792 - val_loss: 2.9397 - val_mae: 1.4030\n",
      "Epoch 48/50\n",
      "\u001b[1m1728/1728\u001b[0m \u001b[32m━━━━━━━━━━━━━━━━━━━━\u001b[0m\u001b[37m\u001b[0m \u001b[1m13s\u001b[0m 7ms/step - loss: 1.5490 - mae: 0.9449 - val_loss: 4.3130 - val_mae: 1.8071\n",
      "Epoch 49/50\n",
      "\u001b[1m1728/1728\u001b[0m \u001b[32m━━━━━━━━━━━━━━━━━━━━\u001b[0m\u001b[37m\u001b[0m \u001b[1m12s\u001b[0m 7ms/step - loss: 1.5916 - mae: 0.9636 - val_loss: 1.5426 - val_mae: 0.9623\n",
      "Epoch 50/50\n",
      "\u001b[1m1728/1728\u001b[0m \u001b[32m━━━━━━━━━━━━━━━━━━━━\u001b[0m\u001b[37m\u001b[0m \u001b[1m8s\u001b[0m 5ms/step - loss: 1.5637 - mae: 0.9504 - val_loss: 2.0564 - val_mae: 1.1284\n",
      "\u001b[1m532/532\u001b[0m \u001b[32m━━━━━━━━━━━━━━━━━━━━\u001b[0m\u001b[37m\u001b[0m \u001b[1m1s\u001b[0m 2ms/step - loss: 1.0608 - mae: 0.7606\n",
      "CNN Test MAE:  0.9095219373703003\n"
     ]
    }
   ],
   "source": [
    "# CNN\n",
    "\n",
    "X_train_cnn = X_train.reshape(-1, X_train.shape[1], 1)  # Reshape for 1D convolution\n",
    "X_test_cnn = X_test.reshape(-1, X_test.shape[1], 1)\n",
    "\n",
    "cnn_model = Sequential([\n",
    "    tf.keras.layers.Conv1D(64, 3, activation='relu', input_shape=(X_train_cnn.shape[1], 1)),\n",
    "    tf.keras.layers.MaxPooling1D(2),\n",
    "    tf.keras.layers.Conv1D(32, 3, activation='relu'),\n",
    "    tf.keras.layers.GlobalAveragePooling1D(),\n",
    "    Dense(32, activation='relu'),\n",
    "    Dense(1)\n",
    "])\n",
    "\n",
    "cnn_model.compile(optimizer='adam', loss='mse', metrics=['mae'])\n",
    "\n",
    "# Train \n",
    "cnn_model.fit(X_train_cnn, y_train, epochs=50, batch_size=32, validation_split=0.2)\n",
    "\n",
    "# Mean absolute error to compare\n",
    "cnn_loss, cnn_mae = cnn_model.evaluate(X_test_cnn, y_test)\n",
    "print(\"CNN Test MAE: \", cnn_mae)\n"
   ]
  },
  {
   "cell_type": "markdown",
   "metadata": {},
   "source": [
    "Our convolutional neural network model works quite well, with a test MAE of 0.909. I will again implement hyperparameter tuning through cross validation to see if I can further improve the accuracy of our model. The hyperparameters I will tune are the configurations of the layers, both number of layers and the number of neurons, as well as the learning rates."
   ]
  },
  {
   "cell_type": "code",
   "execution_count": 39,
   "metadata": {},
   "outputs": [
    {
     "name": "stdout",
     "output_type": "stream",
     "text": [
      "Filters: (8, 4, 2), Learning Rate: 0.01 - Average MAE: 2.9929938316345215\n",
      "Filters: (8, 4, 2), Learning Rate: 0.1 - Average MAE: 4.4789369106292725\n",
      "Filters: (4, 2), Learning Rate: 0.01 - Average MAE: 3.2684048811594644\n",
      "Filters: (4, 2), Learning Rate: 0.1 - Average MAE: 4.887560606002808\n",
      "\n",
      "Best configuration:\n",
      "Layers: (8, 4, 2)\n",
      "Learning Rate: 0.01\n",
      "Average MAE for best configuration: 2.9929938316345215\n"
     ]
    }
   ],
   "source": [
    "from sklearn.model_selection import KFold\n",
    "import numpy as np\n",
    "from tensorflow.keras.models import Sequential\n",
    "from tensorflow.keras.layers import Conv1D, MaxPooling1D, GlobalAveragePooling1D, Dense\n",
    "from tensorflow.keras.optimizers import Adam\n",
    "\n",
    "# Reshape for 1D convolution\n",
    "X_train_cnn = X_train.reshape(-1, X_train.shape[1], 1)\n",
    "X_test_cnn = X_test.reshape(-1, X_test.shape[1], 1)\n",
    "\n",
    "# Define hyperparameter grids\n",
    "filter_configs = [(8, 4, 2), (4, 2)]\n",
    "learning_rates = [0.01, 0.1]\n",
    "\n",
    "# Dictionary to store results\n",
    "cnn_tuning_results = {}\n",
    "\n",
    "# Cross-validation for each combination of filters and learning rate\n",
    "for filters in filter_configs:\n",
    "    for lr in learning_rates:\n",
    "        kf = KFold(n_splits=3, shuffle=True, random_state=42)\n",
    "        mae_scores = []\n",
    "\n",
    "        for train_index, val_index in kf.split(X_train_cnn):\n",
    "            X_train_fold, X_val_fold = X_train_cnn[train_index], X_train_cnn[val_index]\n",
    "            y_train_fold, y_val_fold = y_train[train_index], y_train[val_index]\n",
    "\n",
    "            # Define CNN model with current hyperparameters\n",
    "            cnn_model = Sequential([\n",
    "                Conv1D(filters=filters[0], kernel_size=3, activation='relu', input_shape=(X_train_cnn.shape[1], 1)),\n",
    "                MaxPooling1D(pool_size=2),\n",
    "                Conv1D(filters=filters[1], kernel_size=3, activation='relu'),\n",
    "                GlobalAveragePooling1D(),\n",
    "                Dense(32, activation='relu'),\n",
    "                Dense(1)\n",
    "            ])\n",
    "            \n",
    "            optimizer = Adam(learning_rate=lr)\n",
    "            cnn_model.compile(optimizer=optimizer, loss='mse', metrics=['mae'])\n",
    "\n",
    "            # Train\n",
    "            cnn_model.fit(X_train_fold, y_train_fold, epochs=20, batch_size=32, validation_data=(X_val_fold, y_val_fold), verbose=0)\n",
    "\n",
    "            # Evaluate on the validation fold\n",
    "            _, mae = cnn_model.evaluate(X_val_fold, y_val_fold, verbose=0)\n",
    "            mae_scores.append(mae)\n",
    "\n",
    "        # Store the average MAE for each combination\n",
    "        avg_mae = np.mean(mae_scores)\n",
    "        cnn_tuning_results[(filters, lr)] = avg_mae\n",
    "        print(f\"Filters: {filters}, Learning Rate: {lr} - Average MAE: {avg_mae}\")\n",
    "\n",
    "# Manually find the best configuration based on MAE\n",
    "best_config, best_mae = None, float('inf')\n",
    "\n",
    "for config, mae in cnn_tuning_results.items():\n",
    "    if mae < best_mae:\n",
    "        best_config = config\n",
    "        best_mae = mae\n",
    "\n",
    "# Display the best configuration and its MAE\n",
    "print(\"\\nBest configuration:\")\n",
    "print(\"Layers:\", best_config[0])\n",
    "print(\"Learning Rate:\", best_config[1])\n",
    "print(\"Average MAE for best configuration:\", best_mae)\n"
   ]
  },
  {
   "cell_type": "code",
   "execution_count": 52,
   "metadata": {},
   "outputs": [
    {
     "name": "stderr",
     "output_type": "stream",
     "text": [
      "c:\\Users\\ez242\\Documents\\Anaconda\\envs\\14763\\Lib\\site-packages\\keras\\src\\layers\\convolutional\\base_conv.py:107: UserWarning: Do not pass an `input_shape`/`input_dim` argument to a layer. When using Sequential models, prefer using an `Input(shape)` object as the first layer in the model instead.\n",
      "  super().__init__(activity_regularizer=activity_regularizer, **kwargs)\n"
     ]
    },
    {
     "name": "stdout",
     "output_type": "stream",
     "text": [
      "Test MSE: 2.9650251865386963\n",
      "Test MAE: 1.3853319883346558\n",
      "\u001b[1m532/532\u001b[0m \u001b[32m━━━━━━━━━━━━━━━━━━━━\u001b[0m\u001b[37m\u001b[0m \u001b[1m1s\u001b[0m 2ms/step\n",
      "Test Accuracy: 97.86%\n"
     ]
    }
   ],
   "source": [
    "# Recreate the best CNN model with optimal hyperparameters\n",
    "best_filters, best_lr = best_config\n",
    "best_cnn_model = Sequential([\n",
    "    Conv1D(filters=best_filters[0], kernel_size=3, activation='relu', input_shape=(X_train_cnn.shape[1], 1)),\n",
    "    MaxPooling1D(pool_size=2),\n",
    "    Conv1D(filters=best_filters[1], kernel_size=3, activation='relu'),\n",
    "    GlobalAveragePooling1D(),\n",
    "    Dense(32, activation='relu'),\n",
    "    Dense(1)\n",
    "])\n",
    "\n",
    "# Compile with the best learning rate\n",
    "best_optimizer = Adam(learning_rate=best_lr)\n",
    "best_cnn_model.compile(optimizer=best_optimizer, loss='mse', metrics=['mae'])\n",
    "\n",
    "# Train the best model on the entire training dataset\n",
    "best_cnn_model.fit(X_train_cnn, y_train, epochs=20, batch_size=32, verbose=0)\n",
    "\n",
    "# Evaluate on the test dataset\n",
    "test_loss, test_mae = best_cnn_model.evaluate(X_test_cnn, y_test, verbose=0)\n",
    "print(f\"Test MSE: {test_loss}\")\n",
    "print(f\"Test MAE: {test_mae}\")\n",
    "\n",
    "# Calculate the percentage difference for accuracy on test data\n",
    "y_pred_test = best_cnn_model.predict(X_test_cnn).flatten()  # Flatten to match y_test shape\n",
    "\n",
    "percent_differences = np.abs((y_test - y_pred_test) / y_test)\n",
    "test_accuracy = 1 - np.mean(percent_differences)  # Average accuracy over all test samples\n",
    "print(f\"Test Accuracy: {np.round(test_accuracy * 100, 2)}%\")\n"
   ]
  },
  {
   "cell_type": "markdown",
   "metadata": {},
   "source": [
    "As we can see, my convolutional neural networks from cross validation did not perform as well as my original configuration. The best model was only able to achieve a test MAE of 2.152 compared to 0.909 for my original model. I will use our original model as the best model moving forward."
   ]
  }
 ],
 "metadata": {
  "colab": {
   "provenance": []
  },
  "kernelspec": {
   "display_name": "14763",
   "language": "python",
   "name": "python3"
  },
  "language_info": {
   "codemirror_mode": {
    "name": "ipython",
    "version": 3
   },
   "file_extension": ".py",
   "mimetype": "text/x-python",
   "name": "python",
   "nbconvert_exporter": "python",
   "pygments_lexer": "ipython3",
   "version": "3.11.8"
  }
 },
 "nbformat": 4,
 "nbformat_minor": 4
}
